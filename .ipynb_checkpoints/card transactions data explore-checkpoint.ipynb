{
 "cells": [
  {
   "cell_type": "code",
   "execution_count": 1,
   "metadata": {},
   "outputs": [],
   "source": [
    "import pandas as pd\n",
    "import numpy as np\n",
    "import scipy.stats as sps\n",
    "import matplotlib.pyplot as plt\n",
    "import seaborn as sns\n",
    "import datetime as dt\n",
    "from math import log10\n",
    "%matplotlib inline\n",
    "start_time = pd.datetime.now()"
   ]
  },
  {
   "cell_type": "code",
   "execution_count": 2,
   "metadata": {},
   "outputs": [],
   "source": [
    "mydata = pd.read_excel('card transactions.xlsx', converters={'Merchnum': lambda x: str(x)})\n",
    "# convert Merchnum from int to string"
   ]
  },
  {
   "cell_type": "code",
   "execution_count": null,
   "metadata": {},
   "outputs": [],
   "source": [
    "# https://realpython.com/python-lambda/"
   ]
  },
  {
   "cell_type": "code",
   "execution_count": 4,
   "metadata": {},
   "outputs": [
    {
     "data": {
      "text/plain": [
       "(96753, 10)"
      ]
     },
     "execution_count": 4,
     "metadata": {},
     "output_type": "execute_result"
    }
   ],
   "source": [
    "mydata.shape"
   ]
  },
  {
   "cell_type": "code",
   "execution_count": 5,
   "metadata": {},
   "outputs": [
    {
     "data": {
      "text/plain": [
       "Recnum                        int64\n",
       "Cardnum                       int64\n",
       "Date                 datetime64[ns]\n",
       "Merchnum                     object\n",
       "Merch description            object\n",
       "Merch state                  object\n",
       "Merch zip                   float64\n",
       "Transtype                    object\n",
       "Amount                      float64\n",
       "Fraud                         int64\n",
       "dtype: object"
      ]
     },
     "execution_count": 5,
     "metadata": {},
     "output_type": "execute_result"
    }
   ],
   "source": [
    "mydata.dtypes"
   ]
  },
  {
   "cell_type": "code",
   "execution_count": 6,
   "metadata": {},
   "outputs": [
    {
     "data": {
      "text/html": [
       "<div>\n",
       "<style scoped>\n",
       "    .dataframe tbody tr th:only-of-type {\n",
       "        vertical-align: middle;\n",
       "    }\n",
       "\n",
       "    .dataframe tbody tr th {\n",
       "        vertical-align: top;\n",
       "    }\n",
       "\n",
       "    .dataframe thead th {\n",
       "        text-align: right;\n",
       "    }\n",
       "</style>\n",
       "<table border=\"1\" class=\"dataframe\">\n",
       "  <thead>\n",
       "    <tr style=\"text-align: right;\">\n",
       "      <th></th>\n",
       "      <th>Recnum</th>\n",
       "      <th>Cardnum</th>\n",
       "      <th>Date</th>\n",
       "      <th>Merchnum</th>\n",
       "      <th>Merch description</th>\n",
       "      <th>Merch state</th>\n",
       "      <th>Merch zip</th>\n",
       "      <th>Transtype</th>\n",
       "      <th>Amount</th>\n",
       "      <th>Fraud</th>\n",
       "    </tr>\n",
       "  </thead>\n",
       "  <tbody>\n",
       "    <tr>\n",
       "      <th>0</th>\n",
       "      <td>1</td>\n",
       "      <td>5142190439</td>\n",
       "      <td>2010-01-01</td>\n",
       "      <td>5509006296254</td>\n",
       "      <td>FEDEX SHP 12/23/09 AB#</td>\n",
       "      <td>TN</td>\n",
       "      <td>38118.0</td>\n",
       "      <td>P</td>\n",
       "      <td>3.62</td>\n",
       "      <td>0</td>\n",
       "    </tr>\n",
       "    <tr>\n",
       "      <th>1</th>\n",
       "      <td>2</td>\n",
       "      <td>5142183973</td>\n",
       "      <td>2010-01-01</td>\n",
       "      <td>61003026333</td>\n",
       "      <td>SERVICE MERCHANDISE #81</td>\n",
       "      <td>MA</td>\n",
       "      <td>1803.0</td>\n",
       "      <td>P</td>\n",
       "      <td>31.42</td>\n",
       "      <td>0</td>\n",
       "    </tr>\n",
       "    <tr>\n",
       "      <th>2</th>\n",
       "      <td>3</td>\n",
       "      <td>5142131721</td>\n",
       "      <td>2010-01-01</td>\n",
       "      <td>4503082993600</td>\n",
       "      <td>OFFICE DEPOT #191</td>\n",
       "      <td>MD</td>\n",
       "      <td>20706.0</td>\n",
       "      <td>P</td>\n",
       "      <td>178.49</td>\n",
       "      <td>0</td>\n",
       "    </tr>\n",
       "    <tr>\n",
       "      <th>3</th>\n",
       "      <td>4</td>\n",
       "      <td>5142148452</td>\n",
       "      <td>2010-01-01</td>\n",
       "      <td>5509006296254</td>\n",
       "      <td>FEDEX SHP 12/28/09 AB#</td>\n",
       "      <td>TN</td>\n",
       "      <td>38118.0</td>\n",
       "      <td>P</td>\n",
       "      <td>3.62</td>\n",
       "      <td>0</td>\n",
       "    </tr>\n",
       "    <tr>\n",
       "      <th>4</th>\n",
       "      <td>5</td>\n",
       "      <td>5142190439</td>\n",
       "      <td>2010-01-01</td>\n",
       "      <td>5509006296254</td>\n",
       "      <td>FEDEX SHP 12/23/09 AB#</td>\n",
       "      <td>TN</td>\n",
       "      <td>38118.0</td>\n",
       "      <td>P</td>\n",
       "      <td>3.62</td>\n",
       "      <td>0</td>\n",
       "    </tr>\n",
       "    <tr>\n",
       "      <th>5</th>\n",
       "      <td>6</td>\n",
       "      <td>5142149874</td>\n",
       "      <td>2010-01-01</td>\n",
       "      <td>5509006296254</td>\n",
       "      <td>FEDEX SHP 12/22/09 AB#</td>\n",
       "      <td>TN</td>\n",
       "      <td>38118.0</td>\n",
       "      <td>P</td>\n",
       "      <td>3.67</td>\n",
       "      <td>0</td>\n",
       "    </tr>\n",
       "    <tr>\n",
       "      <th>6</th>\n",
       "      <td>7</td>\n",
       "      <td>5142189277</td>\n",
       "      <td>2010-01-01</td>\n",
       "      <td>5509006296254</td>\n",
       "      <td>FEDEX SHP 12/28/09 AB#</td>\n",
       "      <td>TN</td>\n",
       "      <td>38118.0</td>\n",
       "      <td>P</td>\n",
       "      <td>3.62</td>\n",
       "      <td>0</td>\n",
       "    </tr>\n",
       "    <tr>\n",
       "      <th>7</th>\n",
       "      <td>8</td>\n",
       "      <td>5142191182</td>\n",
       "      <td>2010-01-01</td>\n",
       "      <td>6098208200062</td>\n",
       "      <td>MIAMI COMPUTER SUPPLY</td>\n",
       "      <td>OH</td>\n",
       "      <td>45429.0</td>\n",
       "      <td>P</td>\n",
       "      <td>230.32</td>\n",
       "      <td>0</td>\n",
       "    </tr>\n",
       "    <tr>\n",
       "      <th>8</th>\n",
       "      <td>9</td>\n",
       "      <td>5142258629</td>\n",
       "      <td>2010-01-01</td>\n",
       "      <td>602608969534</td>\n",
       "      <td>FISHER SCI ATL</td>\n",
       "      <td>GA</td>\n",
       "      <td>30091.0</td>\n",
       "      <td>P</td>\n",
       "      <td>62.11</td>\n",
       "      <td>0</td>\n",
       "    </tr>\n",
       "    <tr>\n",
       "      <th>9</th>\n",
       "      <td>10</td>\n",
       "      <td>5142190439</td>\n",
       "      <td>2010-01-01</td>\n",
       "      <td>5509006296254</td>\n",
       "      <td>FEDEX SHP 12/23/09 AB#</td>\n",
       "      <td>TN</td>\n",
       "      <td>38118.0</td>\n",
       "      <td>P</td>\n",
       "      <td>3.62</td>\n",
       "      <td>0</td>\n",
       "    </tr>\n",
       "  </tbody>\n",
       "</table>\n",
       "</div>"
      ],
      "text/plain": [
       "   Recnum     Cardnum       Date       Merchnum        Merch description  \\\n",
       "0       1  5142190439 2010-01-01  5509006296254   FEDEX SHP 12/23/09 AB#   \n",
       "1       2  5142183973 2010-01-01    61003026333  SERVICE MERCHANDISE #81   \n",
       "2       3  5142131721 2010-01-01  4503082993600        OFFICE DEPOT #191   \n",
       "3       4  5142148452 2010-01-01  5509006296254   FEDEX SHP 12/28/09 AB#   \n",
       "4       5  5142190439 2010-01-01  5509006296254   FEDEX SHP 12/23/09 AB#   \n",
       "5       6  5142149874 2010-01-01  5509006296254   FEDEX SHP 12/22/09 AB#   \n",
       "6       7  5142189277 2010-01-01  5509006296254   FEDEX SHP 12/28/09 AB#   \n",
       "7       8  5142191182 2010-01-01  6098208200062    MIAMI COMPUTER SUPPLY   \n",
       "8       9  5142258629 2010-01-01   602608969534           FISHER SCI ATL   \n",
       "9      10  5142190439 2010-01-01  5509006296254   FEDEX SHP 12/23/09 AB#   \n",
       "\n",
       "  Merch state  Merch zip Transtype  Amount  Fraud  \n",
       "0          TN    38118.0         P    3.62      0  \n",
       "1          MA     1803.0         P   31.42      0  \n",
       "2          MD    20706.0         P  178.49      0  \n",
       "3          TN    38118.0         P    3.62      0  \n",
       "4          TN    38118.0         P    3.62      0  \n",
       "5          TN    38118.0         P    3.67      0  \n",
       "6          TN    38118.0         P    3.62      0  \n",
       "7          OH    45429.0         P  230.32      0  \n",
       "8          GA    30091.0         P   62.11      0  \n",
       "9          TN    38118.0         P    3.62      0  "
      ]
     },
     "execution_count": 6,
     "metadata": {},
     "output_type": "execute_result"
    }
   ],
   "source": [
    "mydata.head(10)"
   ]
  },
  {
   "cell_type": "code",
   "execution_count": 7,
   "metadata": {},
   "outputs": [
    {
     "data": {
      "text/html": [
       "<div>\n",
       "<style scoped>\n",
       "    .dataframe tbody tr th:only-of-type {\n",
       "        vertical-align: middle;\n",
       "    }\n",
       "\n",
       "    .dataframe tbody tr th {\n",
       "        vertical-align: top;\n",
       "    }\n",
       "\n",
       "    .dataframe thead th {\n",
       "        text-align: right;\n",
       "    }\n",
       "</style>\n",
       "<table border=\"1\" class=\"dataframe\">\n",
       "  <thead>\n",
       "    <tr style=\"text-align: right;\">\n",
       "      <th></th>\n",
       "      <th>Recnum</th>\n",
       "      <th>Cardnum</th>\n",
       "      <th>Date</th>\n",
       "      <th>Merchnum</th>\n",
       "      <th>Merch description</th>\n",
       "      <th>Merch state</th>\n",
       "      <th>Merch zip</th>\n",
       "      <th>Transtype</th>\n",
       "      <th>Amount</th>\n",
       "      <th>Fraud</th>\n",
       "    </tr>\n",
       "  </thead>\n",
       "  <tbody>\n",
       "    <tr>\n",
       "      <th>count</th>\n",
       "      <td>96753.000000</td>\n",
       "      <td>9.675300e+04</td>\n",
       "      <td>96753</td>\n",
       "      <td>93378</td>\n",
       "      <td>96753</td>\n",
       "      <td>95558</td>\n",
       "      <td>92097.000000</td>\n",
       "      <td>96753</td>\n",
       "      <td>9.675300e+04</td>\n",
       "      <td>96753.000000</td>\n",
       "    </tr>\n",
       "    <tr>\n",
       "      <th>unique</th>\n",
       "      <td>NaN</td>\n",
       "      <td>NaN</td>\n",
       "      <td>365</td>\n",
       "      <td>13091</td>\n",
       "      <td>13126</td>\n",
       "      <td>227</td>\n",
       "      <td>NaN</td>\n",
       "      <td>4</td>\n",
       "      <td>NaN</td>\n",
       "      <td>NaN</td>\n",
       "    </tr>\n",
       "    <tr>\n",
       "      <th>top</th>\n",
       "      <td>NaN</td>\n",
       "      <td>NaN</td>\n",
       "      <td>2010-02-28 00:00:00</td>\n",
       "      <td>930090121224</td>\n",
       "      <td>GSA-FSS-ADV</td>\n",
       "      <td>TN</td>\n",
       "      <td>NaN</td>\n",
       "      <td>P</td>\n",
       "      <td>NaN</td>\n",
       "      <td>NaN</td>\n",
       "    </tr>\n",
       "    <tr>\n",
       "      <th>freq</th>\n",
       "      <td>NaN</td>\n",
       "      <td>NaN</td>\n",
       "      <td>684</td>\n",
       "      <td>9310</td>\n",
       "      <td>1688</td>\n",
       "      <td>12035</td>\n",
       "      <td>NaN</td>\n",
       "      <td>96398</td>\n",
       "      <td>NaN</td>\n",
       "      <td>NaN</td>\n",
       "    </tr>\n",
       "    <tr>\n",
       "      <th>first</th>\n",
       "      <td>NaN</td>\n",
       "      <td>NaN</td>\n",
       "      <td>2010-01-01 00:00:00</td>\n",
       "      <td>NaN</td>\n",
       "      <td>NaN</td>\n",
       "      <td>NaN</td>\n",
       "      <td>NaN</td>\n",
       "      <td>NaN</td>\n",
       "      <td>NaN</td>\n",
       "      <td>NaN</td>\n",
       "    </tr>\n",
       "    <tr>\n",
       "      <th>last</th>\n",
       "      <td>NaN</td>\n",
       "      <td>NaN</td>\n",
       "      <td>2010-12-31 00:00:00</td>\n",
       "      <td>NaN</td>\n",
       "      <td>NaN</td>\n",
       "      <td>NaN</td>\n",
       "      <td>NaN</td>\n",
       "      <td>NaN</td>\n",
       "      <td>NaN</td>\n",
       "      <td>NaN</td>\n",
       "    </tr>\n",
       "    <tr>\n",
       "      <th>mean</th>\n",
       "      <td>48377.000000</td>\n",
       "      <td>5.142202e+09</td>\n",
       "      <td>NaN</td>\n",
       "      <td>NaN</td>\n",
       "      <td>NaN</td>\n",
       "      <td>NaN</td>\n",
       "      <td>44706.596740</td>\n",
       "      <td>NaN</td>\n",
       "      <td>4.278857e+02</td>\n",
       "      <td>0.010945</td>\n",
       "    </tr>\n",
       "    <tr>\n",
       "      <th>std</th>\n",
       "      <td>27930.329635</td>\n",
       "      <td>5.567084e+04</td>\n",
       "      <td>NaN</td>\n",
       "      <td>NaN</td>\n",
       "      <td>NaN</td>\n",
       "      <td>NaN</td>\n",
       "      <td>28369.537945</td>\n",
       "      <td>NaN</td>\n",
       "      <td>1.000614e+04</td>\n",
       "      <td>0.104047</td>\n",
       "    </tr>\n",
       "    <tr>\n",
       "      <th>min</th>\n",
       "      <td>1.000000</td>\n",
       "      <td>5.142110e+09</td>\n",
       "      <td>NaN</td>\n",
       "      <td>NaN</td>\n",
       "      <td>NaN</td>\n",
       "      <td>NaN</td>\n",
       "      <td>1.000000</td>\n",
       "      <td>NaN</td>\n",
       "      <td>1.000000e-02</td>\n",
       "      <td>0.000000</td>\n",
       "    </tr>\n",
       "    <tr>\n",
       "      <th>25%</th>\n",
       "      <td>24189.000000</td>\n",
       "      <td>5.142152e+09</td>\n",
       "      <td>NaN</td>\n",
       "      <td>NaN</td>\n",
       "      <td>NaN</td>\n",
       "      <td>NaN</td>\n",
       "      <td>20855.000000</td>\n",
       "      <td>NaN</td>\n",
       "      <td>3.348000e+01</td>\n",
       "      <td>0.000000</td>\n",
       "    </tr>\n",
       "    <tr>\n",
       "      <th>50%</th>\n",
       "      <td>48377.000000</td>\n",
       "      <td>5.142196e+09</td>\n",
       "      <td>NaN</td>\n",
       "      <td>NaN</td>\n",
       "      <td>NaN</td>\n",
       "      <td>NaN</td>\n",
       "      <td>38118.000000</td>\n",
       "      <td>NaN</td>\n",
       "      <td>1.379800e+02</td>\n",
       "      <td>0.000000</td>\n",
       "    </tr>\n",
       "    <tr>\n",
       "      <th>75%</th>\n",
       "      <td>72565.000000</td>\n",
       "      <td>5.142246e+09</td>\n",
       "      <td>NaN</td>\n",
       "      <td>NaN</td>\n",
       "      <td>NaN</td>\n",
       "      <td>NaN</td>\n",
       "      <td>63103.000000</td>\n",
       "      <td>NaN</td>\n",
       "      <td>4.282000e+02</td>\n",
       "      <td>0.000000</td>\n",
       "    </tr>\n",
       "    <tr>\n",
       "      <th>max</th>\n",
       "      <td>96753.000000</td>\n",
       "      <td>5.142847e+09</td>\n",
       "      <td>NaN</td>\n",
       "      <td>NaN</td>\n",
       "      <td>NaN</td>\n",
       "      <td>NaN</td>\n",
       "      <td>99999.000000</td>\n",
       "      <td>NaN</td>\n",
       "      <td>3.102046e+06</td>\n",
       "      <td>1.000000</td>\n",
       "    </tr>\n",
       "  </tbody>\n",
       "</table>\n",
       "</div>"
      ],
      "text/plain": [
       "              Recnum       Cardnum                 Date      Merchnum  \\\n",
       "count   96753.000000  9.675300e+04                96753         93378   \n",
       "unique           NaN           NaN                  365         13091   \n",
       "top              NaN           NaN  2010-02-28 00:00:00  930090121224   \n",
       "freq             NaN           NaN                  684          9310   \n",
       "first            NaN           NaN  2010-01-01 00:00:00           NaN   \n",
       "last             NaN           NaN  2010-12-31 00:00:00           NaN   \n",
       "mean    48377.000000  5.142202e+09                  NaN           NaN   \n",
       "std     27930.329635  5.567084e+04                  NaN           NaN   \n",
       "min         1.000000  5.142110e+09                  NaN           NaN   \n",
       "25%     24189.000000  5.142152e+09                  NaN           NaN   \n",
       "50%     48377.000000  5.142196e+09                  NaN           NaN   \n",
       "75%     72565.000000  5.142246e+09                  NaN           NaN   \n",
       "max     96753.000000  5.142847e+09                  NaN           NaN   \n",
       "\n",
       "       Merch description Merch state     Merch zip Transtype        Amount  \\\n",
       "count              96753       95558  92097.000000     96753  9.675300e+04   \n",
       "unique             13126         227           NaN         4           NaN   \n",
       "top          GSA-FSS-ADV          TN           NaN         P           NaN   \n",
       "freq                1688       12035           NaN     96398           NaN   \n",
       "first                NaN         NaN           NaN       NaN           NaN   \n",
       "last                 NaN         NaN           NaN       NaN           NaN   \n",
       "mean                 NaN         NaN  44706.596740       NaN  4.278857e+02   \n",
       "std                  NaN         NaN  28369.537945       NaN  1.000614e+04   \n",
       "min                  NaN         NaN      1.000000       NaN  1.000000e-02   \n",
       "25%                  NaN         NaN  20855.000000       NaN  3.348000e+01   \n",
       "50%                  NaN         NaN  38118.000000       NaN  1.379800e+02   \n",
       "75%                  NaN         NaN  63103.000000       NaN  4.282000e+02   \n",
       "max                  NaN         NaN  99999.000000       NaN  3.102046e+06   \n",
       "\n",
       "               Fraud  \n",
       "count   96753.000000  \n",
       "unique           NaN  \n",
       "top              NaN  \n",
       "freq             NaN  \n",
       "first            NaN  \n",
       "last             NaN  \n",
       "mean        0.010945  \n",
       "std         0.104047  \n",
       "min         0.000000  \n",
       "25%         0.000000  \n",
       "50%         0.000000  \n",
       "75%         0.000000  \n",
       "max         1.000000  "
      ]
     },
     "execution_count": 7,
     "metadata": {},
     "output_type": "execute_result"
    }
   ],
   "source": [
    "mydata.describe(include = 'all')"
   ]
  },
  {
   "cell_type": "code",
   "execution_count": 5,
   "metadata": {},
   "outputs": [
    {
     "name": "stdout",
     "output_type": "stream",
     "text": [
      "96753\n"
     ]
    }
   ],
   "source": [
    "numrecords = len(mydata)\n",
    "print(numrecords)"
   ]
  },
  {
   "cell_type": "code",
   "execution_count": 9,
   "metadata": {},
   "outputs": [
    {
     "data": {
      "text/plain": [
       "Recnum               100.000000\n",
       "Cardnum              100.000000\n",
       "Date                 100.000000\n",
       "Merchnum              96.511736\n",
       "Merch description    100.000000\n",
       "Merch state           98.764896\n",
       "Merch zip             95.187746\n",
       "Transtype            100.000000\n",
       "Amount               100.000000\n",
       "Fraud                100.000000\n",
       "dtype: float64"
      ]
     },
     "execution_count": 9,
     "metadata": {},
     "output_type": "execute_result"
    }
   ],
   "source": [
    "mydata.count() * 100 /numrecords"
   ]
  },
  {
   "cell_type": "code",
   "execution_count": 10,
   "metadata": {},
   "outputs": [
    {
     "data": {
      "text/plain": [
       "96753"
      ]
     },
     "execution_count": 10,
     "metadata": {},
     "output_type": "execute_result"
    }
   ],
   "source": [
    "len(mydata['Recnum'].unique())"
   ]
  },
  {
   "cell_type": "code",
   "execution_count": 11,
   "metadata": {},
   "outputs": [
    {
     "data": {
      "text/plain": [
       "48377.0"
      ]
     },
     "execution_count": 11,
     "metadata": {},
     "output_type": "execute_result"
    }
   ],
   "source": [
    "np.mean(mydata['Recnum'])"
   ]
  },
  {
   "cell_type": "code",
   "execution_count": 13,
   "metadata": {},
   "outputs": [
    {
     "data": {
      "text/plain": [
       "27930.185295960116"
      ]
     },
     "execution_count": 13,
     "metadata": {},
     "output_type": "execute_result"
    }
   ],
   "source": [
    "np.std(mydata['Recnum'])"
   ]
  },
  {
   "cell_type": "code",
   "execution_count": 14,
   "metadata": {},
   "outputs": [
    {
     "data": {
      "text/plain": [
       "1"
      ]
     },
     "execution_count": 14,
     "metadata": {},
     "output_type": "execute_result"
    }
   ],
   "source": [
    "np.min(mydata['Recnum'])"
   ]
  },
  {
   "cell_type": "code",
   "execution_count": 15,
   "metadata": {},
   "outputs": [
    {
     "data": {
      "text/plain": [
       "96753"
      ]
     },
     "execution_count": 15,
     "metadata": {},
     "output_type": "execute_result"
    }
   ],
   "source": [
    "np.max(mydata['Recnum'])"
   ]
  },
  {
   "cell_type": "code",
   "execution_count": 10,
   "metadata": {},
   "outputs": [
    {
     "data": {
      "text/plain": [
       "1645"
      ]
     },
     "execution_count": 10,
     "metadata": {},
     "output_type": "execute_result"
    }
   ],
   "source": [
    "len(mydata['Cardnum'].unique())"
   ]
  },
  {
   "cell_type": "code",
   "execution_count": 17,
   "metadata": {},
   "outputs": [
    {
     "data": {
      "text/plain": [
       "0"
      ]
     },
     "execution_count": 17,
     "metadata": {},
     "output_type": "execute_result"
    }
   ],
   "source": [
    "len(mydata[mydata['Cardnum'] == 0])"
   ]
  },
  {
   "cell_type": "code",
   "execution_count": 19,
   "metadata": {},
   "outputs": [
    {
     "data": {
      "text/plain": [
       "5142148452    1192\n",
       "5142184598     921\n",
       "5142189108     663\n",
       "5142297710     583\n",
       "5142223373     579\n",
       "              ... \n",
       "5142163835       1\n",
       "5142173161       1\n",
       "5142245286       1\n",
       "5142265215       1\n",
       "5142261785       1\n",
       "Name: Cardnum, Length: 1645, dtype: int64"
      ]
     },
     "execution_count": 19,
     "metadata": {},
     "output_type": "execute_result"
    }
   ],
   "source": [
    "mydata['Cardnum'].value_counts()"
   ]
  },
  {
   "cell_type": "code",
   "execution_count": 22,
   "metadata": {},
   "outputs": [
    {
     "data": {
      "image/png": "[encoded data removed]",
      "text/plain": [
       "<Figure size 432x288 with 1 Axes>"
      ]
     },
     "metadata": {},
     "output_type": "display_data"
    }
   ],
   "source": [
    "sns.set(font_scale=1.5)\n",
    "mydata['Cardnum'].value_counts().head(15).plot(kind = 'bar')\n",
    "plt.savefig('Cardnum.png')\n",
    "# plt.yscale('log')\n",
    "# plt.ylim(bottom = 100)"
   ]
  },
  {
   "cell_type": "code",
   "execution_count": 12,
   "metadata": {},
   "outputs": [
    {
     "data": {
      "text/plain": [
       "365"
      ]
     },
     "execution_count": 12,
     "metadata": {},
     "output_type": "execute_result"
    }
   ],
   "source": [
    "len(mydata['Date'].unique())"
   ]
  },
  {
   "cell_type": "code",
   "execution_count": 24,
   "metadata": {},
   "outputs": [
    {
     "data": {
      "text/plain": [
       "0"
      ]
     },
     "execution_count": 24,
     "metadata": {},
     "output_type": "execute_result"
    }
   ],
   "source": [
    "len(mydata[mydata['Date'] == 0])"
   ]
  },
  {
   "cell_type": "code",
   "execution_count": 23,
   "metadata": {},
   "outputs": [
    {
     "data": {
      "text/plain": [
       "2010-02-28    684\n",
       "2010-08-10    610\n",
       "2010-03-15    594\n",
       "2010-09-13    564\n",
       "2010-08-09    536\n",
       "             ... \n",
       "2010-11-07     11\n",
       "2010-10-03     10\n",
       "2010-01-16      9\n",
       "2010-10-17      6\n",
       "2010-12-26      6\n",
       "Name: Date, Length: 365, dtype: int64"
      ]
     },
     "execution_count": 23,
     "metadata": {},
     "output_type": "execute_result"
    }
   ],
   "source": [
    "mydata['Date'].value_counts()"
   ]
  },
  {
   "cell_type": "code",
   "execution_count": 13,
   "metadata": {},
   "outputs": [
    {
     "data": {
      "text/plain": [
       "<matplotlib.axes._subplots.AxesSubplot at 0x1a1c3c10f0>"
      ]
     },
     "execution_count": 13,
     "metadata": {},
     "output_type": "execute_result"
    },
    {
     "data": {
      "image/png": "[encoded data removed]",
      "text/plain": [
       "<Figure size 432x288 with 1 Axes>"
      ]
     },
     "metadata": {},
     "output_type": "display_data"
    }
   ],
   "source": [
    "mydata['Date'].value_counts().head(20).plot(kind = 'bar')"
   ]
  },
  {
   "cell_type": "code",
   "execution_count": 14,
   "metadata": {},
   "outputs": [
    {
     "data": {
      "text/plain": [
       "<matplotlib.axes._subplots.AxesSubplot at 0x1a1c36cf28>"
      ]
     },
     "execution_count": 14,
     "metadata": {},
     "output_type": "execute_result"
    },
    {
     "data": {
      "image/png": "[encoded data removed]",
      "text/plain": [
       "<Figure size 432x288 with 1 Axes>"
      ]
     },
     "metadata": {},
     "output_type": "display_data"
    }
   ],
   "source": [
    "mydata['Date'].value_counts().tail(20).plot(kind='bar')"
   ]
  },
  {
   "cell_type": "code",
   "execution_count": 15,
   "metadata": {},
   "outputs": [
    {
     "data": {
      "text/html": [
       "<div>\n",
       "<style scoped>\n",
       "    .dataframe tbody tr th:only-of-type {\n",
       "        vertical-align: middle;\n",
       "    }\n",
       "\n",
       "    .dataframe tbody tr th {\n",
       "        vertical-align: top;\n",
       "    }\n",
       "\n",
       "    .dataframe thead th {\n",
       "        text-align: right;\n",
       "    }\n",
       "</style>\n",
       "<table border=\"1\" class=\"dataframe\">\n",
       "  <thead>\n",
       "    <tr style=\"text-align: right;\">\n",
       "      <th></th>\n",
       "      <th>Recnum</th>\n",
       "      <th>Cardnum</th>\n",
       "      <th>Merchnum</th>\n",
       "      <th>Merch description</th>\n",
       "      <th>Merch state</th>\n",
       "      <th>Merch zip</th>\n",
       "      <th>Transtype</th>\n",
       "      <th>Amount</th>\n",
       "      <th>Fraud</th>\n",
       "    </tr>\n",
       "    <tr>\n",
       "      <th>Date</th>\n",
       "      <th></th>\n",
       "      <th></th>\n",
       "      <th></th>\n",
       "      <th></th>\n",
       "      <th></th>\n",
       "      <th></th>\n",
       "      <th></th>\n",
       "      <th></th>\n",
       "      <th></th>\n",
       "    </tr>\n",
       "  </thead>\n",
       "  <tbody>\n",
       "    <tr>\n",
       "      <th>2010-01-01</th>\n",
       "      <td>51</td>\n",
       "      <td>51</td>\n",
       "      <td>51</td>\n",
       "      <td>51</td>\n",
       "      <td>51</td>\n",
       "      <td>51</td>\n",
       "      <td>51</td>\n",
       "      <td>51</td>\n",
       "      <td>51</td>\n",
       "    </tr>\n",
       "    <tr>\n",
       "      <th>2010-01-02</th>\n",
       "      <td>29</td>\n",
       "      <td>29</td>\n",
       "      <td>29</td>\n",
       "      <td>29</td>\n",
       "      <td>29</td>\n",
       "      <td>10</td>\n",
       "      <td>29</td>\n",
       "      <td>29</td>\n",
       "      <td>29</td>\n",
       "    </tr>\n",
       "    <tr>\n",
       "      <th>2010-01-03</th>\n",
       "      <td>159</td>\n",
       "      <td>159</td>\n",
       "      <td>153</td>\n",
       "      <td>159</td>\n",
       "      <td>157</td>\n",
       "      <td>153</td>\n",
       "      <td>159</td>\n",
       "      <td>159</td>\n",
       "      <td>159</td>\n",
       "    </tr>\n",
       "    <tr>\n",
       "      <th>2010-01-04</th>\n",
       "      <td>229</td>\n",
       "      <td>229</td>\n",
       "      <td>221</td>\n",
       "      <td>229</td>\n",
       "      <td>226</td>\n",
       "      <td>221</td>\n",
       "      <td>229</td>\n",
       "      <td>229</td>\n",
       "      <td>229</td>\n",
       "    </tr>\n",
       "    <tr>\n",
       "      <th>2010-01-05</th>\n",
       "      <td>309</td>\n",
       "      <td>309</td>\n",
       "      <td>286</td>\n",
       "      <td>309</td>\n",
       "      <td>299</td>\n",
       "      <td>297</td>\n",
       "      <td>309</td>\n",
       "      <td>309</td>\n",
       "      <td>309</td>\n",
       "    </tr>\n",
       "    <tr>\n",
       "      <th>2010-01-06</th>\n",
       "      <td>330</td>\n",
       "      <td>330</td>\n",
       "      <td>317</td>\n",
       "      <td>330</td>\n",
       "      <td>328</td>\n",
       "      <td>321</td>\n",
       "      <td>330</td>\n",
       "      <td>330</td>\n",
       "      <td>330</td>\n",
       "    </tr>\n",
       "    <tr>\n",
       "      <th>2010-01-07</th>\n",
       "      <td>307</td>\n",
       "      <td>307</td>\n",
       "      <td>292</td>\n",
       "      <td>307</td>\n",
       "      <td>305</td>\n",
       "      <td>294</td>\n",
       "      <td>307</td>\n",
       "      <td>307</td>\n",
       "      <td>307</td>\n",
       "    </tr>\n",
       "    <tr>\n",
       "      <th>2010-01-08</th>\n",
       "      <td>104</td>\n",
       "      <td>104</td>\n",
       "      <td>104</td>\n",
       "      <td>104</td>\n",
       "      <td>104</td>\n",
       "      <td>104</td>\n",
       "      <td>104</td>\n",
       "      <td>104</td>\n",
       "      <td>104</td>\n",
       "    </tr>\n",
       "    <tr>\n",
       "      <th>2010-01-09</th>\n",
       "      <td>19</td>\n",
       "      <td>19</td>\n",
       "      <td>19</td>\n",
       "      <td>19</td>\n",
       "      <td>19</td>\n",
       "      <td>19</td>\n",
       "      <td>19</td>\n",
       "      <td>19</td>\n",
       "      <td>19</td>\n",
       "    </tr>\n",
       "    <tr>\n",
       "      <th>2010-01-10</th>\n",
       "      <td>323</td>\n",
       "      <td>323</td>\n",
       "      <td>307</td>\n",
       "      <td>323</td>\n",
       "      <td>314</td>\n",
       "      <td>309</td>\n",
       "      <td>323</td>\n",
       "      <td>323</td>\n",
       "      <td>323</td>\n",
       "    </tr>\n",
       "    <tr>\n",
       "      <th>2010-01-11</th>\n",
       "      <td>318</td>\n",
       "      <td>318</td>\n",
       "      <td>302</td>\n",
       "      <td>318</td>\n",
       "      <td>316</td>\n",
       "      <td>310</td>\n",
       "      <td>318</td>\n",
       "      <td>318</td>\n",
       "      <td>318</td>\n",
       "    </tr>\n",
       "    <tr>\n",
       "      <th>2010-01-12</th>\n",
       "      <td>442</td>\n",
       "      <td>442</td>\n",
       "      <td>426</td>\n",
       "      <td>442</td>\n",
       "      <td>433</td>\n",
       "      <td>422</td>\n",
       "      <td>442</td>\n",
       "      <td>442</td>\n",
       "      <td>442</td>\n",
       "    </tr>\n",
       "    <tr>\n",
       "      <th>2010-01-13</th>\n",
       "      <td>374</td>\n",
       "      <td>374</td>\n",
       "      <td>365</td>\n",
       "      <td>374</td>\n",
       "      <td>371</td>\n",
       "      <td>353</td>\n",
       "      <td>374</td>\n",
       "      <td>374</td>\n",
       "      <td>374</td>\n",
       "    </tr>\n",
       "    <tr>\n",
       "      <th>2010-01-14</th>\n",
       "      <td>350</td>\n",
       "      <td>350</td>\n",
       "      <td>339</td>\n",
       "      <td>350</td>\n",
       "      <td>347</td>\n",
       "      <td>332</td>\n",
       "      <td>350</td>\n",
       "      <td>350</td>\n",
       "      <td>350</td>\n",
       "    </tr>\n",
       "    <tr>\n",
       "      <th>2010-01-15</th>\n",
       "      <td>139</td>\n",
       "      <td>139</td>\n",
       "      <td>136</td>\n",
       "      <td>139</td>\n",
       "      <td>139</td>\n",
       "      <td>136</td>\n",
       "      <td>139</td>\n",
       "      <td>139</td>\n",
       "      <td>139</td>\n",
       "    </tr>\n",
       "    <tr>\n",
       "      <th>2010-01-16</th>\n",
       "      <td>9</td>\n",
       "      <td>9</td>\n",
       "      <td>9</td>\n",
       "      <td>9</td>\n",
       "      <td>9</td>\n",
       "      <td>9</td>\n",
       "      <td>9</td>\n",
       "      <td>9</td>\n",
       "      <td>9</td>\n",
       "    </tr>\n",
       "    <tr>\n",
       "      <th>2010-01-17</th>\n",
       "      <td>177</td>\n",
       "      <td>177</td>\n",
       "      <td>172</td>\n",
       "      <td>177</td>\n",
       "      <td>172</td>\n",
       "      <td>173</td>\n",
       "      <td>177</td>\n",
       "      <td>177</td>\n",
       "      <td>177</td>\n",
       "    </tr>\n",
       "    <tr>\n",
       "      <th>2010-01-18</th>\n",
       "      <td>235</td>\n",
       "      <td>235</td>\n",
       "      <td>230</td>\n",
       "      <td>235</td>\n",
       "      <td>234</td>\n",
       "      <td>223</td>\n",
       "      <td>235</td>\n",
       "      <td>235</td>\n",
       "      <td>235</td>\n",
       "    </tr>\n",
       "    <tr>\n",
       "      <th>2010-01-19</th>\n",
       "      <td>302</td>\n",
       "      <td>302</td>\n",
       "      <td>296</td>\n",
       "      <td>302</td>\n",
       "      <td>301</td>\n",
       "      <td>265</td>\n",
       "      <td>302</td>\n",
       "      <td>302</td>\n",
       "      <td>302</td>\n",
       "    </tr>\n",
       "    <tr>\n",
       "      <th>2010-01-20</th>\n",
       "      <td>359</td>\n",
       "      <td>359</td>\n",
       "      <td>322</td>\n",
       "      <td>359</td>\n",
       "      <td>334</td>\n",
       "      <td>310</td>\n",
       "      <td>359</td>\n",
       "      <td>359</td>\n",
       "      <td>359</td>\n",
       "    </tr>\n",
       "  </tbody>\n",
       "</table>\n",
       "</div>"
      ],
      "text/plain": [
       "            Recnum  Cardnum  Merchnum  Merch description  Merch state  \\\n",
       "Date                                                                    \n",
       "2010-01-01      51       51        51                 51           51   \n",
       "2010-01-02      29       29        29                 29           29   \n",
       "2010-01-03     159      159       153                159          157   \n",
       "2010-01-04     229      229       221                229          226   \n",
       "2010-01-05     309      309       286                309          299   \n",
       "2010-01-06     330      330       317                330          328   \n",
       "2010-01-07     307      307       292                307          305   \n",
       "2010-01-08     104      104       104                104          104   \n",
       "2010-01-09      19       19        19                 19           19   \n",
       "2010-01-10     323      323       307                323          314   \n",
       "2010-01-11     318      318       302                318          316   \n",
       "2010-01-12     442      442       426                442          433   \n",
       "2010-01-13     374      374       365                374          371   \n",
       "2010-01-14     350      350       339                350          347   \n",
       "2010-01-15     139      139       136                139          139   \n",
       "2010-01-16       9        9         9                  9            9   \n",
       "2010-01-17     177      177       172                177          172   \n",
       "2010-01-18     235      235       230                235          234   \n",
       "2010-01-19     302      302       296                302          301   \n",
       "2010-01-20     359      359       322                359          334   \n",
       "\n",
       "            Merch zip  Transtype  Amount  Fraud  \n",
       "Date                                             \n",
       "2010-01-01         51         51      51     51  \n",
       "2010-01-02         10         29      29     29  \n",
       "2010-01-03        153        159     159    159  \n",
       "2010-01-04        221        229     229    229  \n",
       "2010-01-05        297        309     309    309  \n",
       "2010-01-06        321        330     330    330  \n",
       "2010-01-07        294        307     307    307  \n",
       "2010-01-08        104        104     104    104  \n",
       "2010-01-09         19         19      19     19  \n",
       "2010-01-10        309        323     323    323  \n",
       "2010-01-11        310        318     318    318  \n",
       "2010-01-12        422        442     442    442  \n",
       "2010-01-13        353        374     374    374  \n",
       "2010-01-14        332        350     350    350  \n",
       "2010-01-15        136        139     139    139  \n",
       "2010-01-16          9          9       9      9  \n",
       "2010-01-17        173        177     177    177  \n",
       "2010-01-18        223        235     235    235  \n",
       "2010-01-19        265        302     302    302  \n",
       "2010-01-20        310        359     359    359  "
      ]
     },
     "execution_count": 15,
     "metadata": {},
     "output_type": "execute_result"
    }
   ],
   "source": [
    "count_day = mydata.groupby('Date').count()\n",
    "count_day.head(20)"
   ]
  },
  {
   "cell_type": "code",
   "execution_count": 28,
   "metadata": {},
   "outputs": [
    {
     "data": {
      "text/plain": [
       "96753"
      ]
     },
     "execution_count": 28,
     "metadata": {},
     "output_type": "execute_result"
    }
   ],
   "source": [
    "numrecords"
   ]
  },
  {
   "cell_type": "code",
   "execution_count": 27,
   "metadata": {},
   "outputs": [
    {
     "data": {
      "text/plain": [
       "96753"
      ]
     },
     "execution_count": 27,
     "metadata": {},
     "output_type": "execute_result"
    }
   ],
   "source": [
    "trx = np.ones(numrecords)\n",
    "trx\n",
    "len(trx)"
   ]
  },
  {
   "cell_type": "code",
   "execution_count": 19,
   "metadata": {},
   "outputs": [
    {
     "data": {
      "text/html": [
       "<div>\n",
       "<style scoped>\n",
       "    .dataframe tbody tr th:only-of-type {\n",
       "        vertical-align: middle;\n",
       "    }\n",
       "\n",
       "    .dataframe tbody tr th {\n",
       "        vertical-align: top;\n",
       "    }\n",
       "\n",
       "    .dataframe thead th {\n",
       "        text-align: right;\n",
       "    }\n",
       "</style>\n",
       "<table border=\"1\" class=\"dataframe\">\n",
       "  <thead>\n",
       "    <tr style=\"text-align: right;\">\n",
       "      <th></th>\n",
       "      <th>Recnum</th>\n",
       "      <th>Cardnum</th>\n",
       "      <th>Date</th>\n",
       "      <th>Merchnum</th>\n",
       "      <th>Merch description</th>\n",
       "      <th>Merch state</th>\n",
       "      <th>Merch zip</th>\n",
       "      <th>Transtype</th>\n",
       "      <th>Amount</th>\n",
       "      <th>Fraud</th>\n",
       "      <th>trx</th>\n",
       "    </tr>\n",
       "  </thead>\n",
       "  <tbody>\n",
       "    <tr>\n",
       "      <th>0</th>\n",
       "      <td>1</td>\n",
       "      <td>5142190439</td>\n",
       "      <td>2010-01-01</td>\n",
       "      <td>5509006296254</td>\n",
       "      <td>FEDEX SHP 12/23/09 AB#</td>\n",
       "      <td>TN</td>\n",
       "      <td>38118.0</td>\n",
       "      <td>P</td>\n",
       "      <td>3.62</td>\n",
       "      <td>0</td>\n",
       "      <td>1.0</td>\n",
       "    </tr>\n",
       "    <tr>\n",
       "      <th>1</th>\n",
       "      <td>2</td>\n",
       "      <td>5142183973</td>\n",
       "      <td>2010-01-01</td>\n",
       "      <td>61003026333</td>\n",
       "      <td>SERVICE MERCHANDISE #81</td>\n",
       "      <td>MA</td>\n",
       "      <td>1803.0</td>\n",
       "      <td>P</td>\n",
       "      <td>31.42</td>\n",
       "      <td>0</td>\n",
       "      <td>1.0</td>\n",
       "    </tr>\n",
       "    <tr>\n",
       "      <th>2</th>\n",
       "      <td>3</td>\n",
       "      <td>5142131721</td>\n",
       "      <td>2010-01-01</td>\n",
       "      <td>4503082993600</td>\n",
       "      <td>OFFICE DEPOT #191</td>\n",
       "      <td>MD</td>\n",
       "      <td>20706.0</td>\n",
       "      <td>P</td>\n",
       "      <td>178.49</td>\n",
       "      <td>0</td>\n",
       "      <td>1.0</td>\n",
       "    </tr>\n",
       "    <tr>\n",
       "      <th>3</th>\n",
       "      <td>4</td>\n",
       "      <td>5142148452</td>\n",
       "      <td>2010-01-01</td>\n",
       "      <td>5509006296254</td>\n",
       "      <td>FEDEX SHP 12/28/09 AB#</td>\n",
       "      <td>TN</td>\n",
       "      <td>38118.0</td>\n",
       "      <td>P</td>\n",
       "      <td>3.62</td>\n",
       "      <td>0</td>\n",
       "      <td>1.0</td>\n",
       "    </tr>\n",
       "    <tr>\n",
       "      <th>4</th>\n",
       "      <td>5</td>\n",
       "      <td>5142190439</td>\n",
       "      <td>2010-01-01</td>\n",
       "      <td>5509006296254</td>\n",
       "      <td>FEDEX SHP 12/23/09 AB#</td>\n",
       "      <td>TN</td>\n",
       "      <td>38118.0</td>\n",
       "      <td>P</td>\n",
       "      <td>3.62</td>\n",
       "      <td>0</td>\n",
       "      <td>1.0</td>\n",
       "    </tr>\n",
       "    <tr>\n",
       "      <th>...</th>\n",
       "      <td>...</td>\n",
       "      <td>...</td>\n",
       "      <td>...</td>\n",
       "      <td>...</td>\n",
       "      <td>...</td>\n",
       "      <td>...</td>\n",
       "      <td>...</td>\n",
       "      <td>...</td>\n",
       "      <td>...</td>\n",
       "      <td>...</td>\n",
       "      <td>...</td>\n",
       "    </tr>\n",
       "    <tr>\n",
       "      <th>96748</th>\n",
       "      <td>96749</td>\n",
       "      <td>5142276053</td>\n",
       "      <td>2010-12-31</td>\n",
       "      <td>3500000006160</td>\n",
       "      <td>BEST BUY      00001610</td>\n",
       "      <td>KY</td>\n",
       "      <td>41042.0</td>\n",
       "      <td>P</td>\n",
       "      <td>84.79</td>\n",
       "      <td>0</td>\n",
       "      <td>1.0</td>\n",
       "    </tr>\n",
       "    <tr>\n",
       "      <th>96749</th>\n",
       "      <td>96750</td>\n",
       "      <td>5142225701</td>\n",
       "      <td>2010-12-31</td>\n",
       "      <td>8090710030950</td>\n",
       "      <td>MARKUS OFFICE SUPPLIES</td>\n",
       "      <td>OH</td>\n",
       "      <td>45248.0</td>\n",
       "      <td>P</td>\n",
       "      <td>118.75</td>\n",
       "      <td>0</td>\n",
       "      <td>1.0</td>\n",
       "    </tr>\n",
       "    <tr>\n",
       "      <th>96750</th>\n",
       "      <td>96751</td>\n",
       "      <td>5142226486</td>\n",
       "      <td>2010-12-31</td>\n",
       "      <td>4503057341100</td>\n",
       "      <td>TECH PAC, INC</td>\n",
       "      <td>OH</td>\n",
       "      <td>45150.0</td>\n",
       "      <td>P</td>\n",
       "      <td>363.56</td>\n",
       "      <td>0</td>\n",
       "      <td>1.0</td>\n",
       "    </tr>\n",
       "    <tr>\n",
       "      <th>96751</th>\n",
       "      <td>96752</td>\n",
       "      <td>5142244619</td>\n",
       "      <td>2010-12-31</td>\n",
       "      <td>8834000695412</td>\n",
       "      <td>BUY.COM</td>\n",
       "      <td>CA</td>\n",
       "      <td>92656.0</td>\n",
       "      <td>P</td>\n",
       "      <td>2202.03</td>\n",
       "      <td>0</td>\n",
       "      <td>1.0</td>\n",
       "    </tr>\n",
       "    <tr>\n",
       "      <th>96752</th>\n",
       "      <td>96753</td>\n",
       "      <td>5142243247</td>\n",
       "      <td>2010-12-31</td>\n",
       "      <td>9108347680006</td>\n",
       "      <td>STAPLES NATIONAL #471</td>\n",
       "      <td>NJ</td>\n",
       "      <td>7606.0</td>\n",
       "      <td>P</td>\n",
       "      <td>554.64</td>\n",
       "      <td>0</td>\n",
       "      <td>1.0</td>\n",
       "    </tr>\n",
       "  </tbody>\n",
       "</table>\n",
       "<p>96753 rows × 11 columns</p>\n",
       "</div>"
      ],
      "text/plain": [
       "       Recnum     Cardnum       Date       Merchnum        Merch description  \\\n",
       "0           1  5142190439 2010-01-01  5509006296254   FEDEX SHP 12/23/09 AB#   \n",
       "1           2  5142183973 2010-01-01    61003026333  SERVICE MERCHANDISE #81   \n",
       "2           3  5142131721 2010-01-01  4503082993600        OFFICE DEPOT #191   \n",
       "3           4  5142148452 2010-01-01  5509006296254   FEDEX SHP 12/28/09 AB#   \n",
       "4           5  5142190439 2010-01-01  5509006296254   FEDEX SHP 12/23/09 AB#   \n",
       "...       ...         ...        ...            ...                      ...   \n",
       "96748   96749  5142276053 2010-12-31  3500000006160   BEST BUY      00001610   \n",
       "96749   96750  5142225701 2010-12-31  8090710030950   MARKUS OFFICE SUPPLIES   \n",
       "96750   96751  5142226486 2010-12-31  4503057341100            TECH PAC, INC   \n",
       "96751   96752  5142244619 2010-12-31  8834000695412                  BUY.COM   \n",
       "96752   96753  5142243247 2010-12-31  9108347680006    STAPLES NATIONAL #471   \n",
       "\n",
       "      Merch state  Merch zip Transtype   Amount  Fraud  trx  \n",
       "0              TN    38118.0         P     3.62      0  1.0  \n",
       "1              MA     1803.0         P    31.42      0  1.0  \n",
       "2              MD    20706.0         P   178.49      0  1.0  \n",
       "3              TN    38118.0         P     3.62      0  1.0  \n",
       "4              TN    38118.0         P     3.62      0  1.0  \n",
       "...           ...        ...       ...      ...    ...  ...  \n",
       "96748          KY    41042.0         P    84.79      0  1.0  \n",
       "96749          OH    45248.0         P   118.75      0  1.0  \n",
       "96750          OH    45150.0         P   363.56      0  1.0  \n",
       "96751          CA    92656.0         P  2202.03      0  1.0  \n",
       "96752          NJ     7606.0         P   554.64      0  1.0  \n",
       "\n",
       "[96753 rows x 11 columns]"
      ]
     },
     "execution_count": 19,
     "metadata": {},
     "output_type": "execute_result"
    }
   ],
   "source": [
    "mydata.assign(trx = np.ones(numrecords))"
   ]
  },
  {
   "cell_type": "code",
   "execution_count": 9,
   "metadata": {},
   "outputs": [
    {
     "data": {
      "text/html": [
       "<div>\n",
       "<style scoped>\n",
       "    .dataframe tbody tr th:only-of-type {\n",
       "        vertical-align: middle;\n",
       "    }\n",
       "\n",
       "    .dataframe tbody tr th {\n",
       "        vertical-align: top;\n",
       "    }\n",
       "\n",
       "    .dataframe thead th {\n",
       "        text-align: right;\n",
       "    }\n",
       "</style>\n",
       "<table border=\"1\" class=\"dataframe\">\n",
       "  <thead>\n",
       "    <tr style=\"text-align: right;\">\n",
       "      <th></th>\n",
       "      <th>Recnum</th>\n",
       "      <th>Cardnum</th>\n",
       "      <th>Date</th>\n",
       "      <th>Merchnum</th>\n",
       "      <th>Merch description</th>\n",
       "      <th>Merch state</th>\n",
       "      <th>Merch zip</th>\n",
       "      <th>Transtype</th>\n",
       "      <th>Amount</th>\n",
       "      <th>Fraud</th>\n",
       "      <th>trx</th>\n",
       "    </tr>\n",
       "    <tr>\n",
       "      <th>Date</th>\n",
       "      <th></th>\n",
       "      <th></th>\n",
       "      <th></th>\n",
       "      <th></th>\n",
       "      <th></th>\n",
       "      <th></th>\n",
       "      <th></th>\n",
       "      <th></th>\n",
       "      <th></th>\n",
       "      <th></th>\n",
       "      <th></th>\n",
       "    </tr>\n",
       "  </thead>\n",
       "  <tbody>\n",
       "    <tr>\n",
       "      <th>2010-01-01</th>\n",
       "      <td>1</td>\n",
       "      <td>5142190439</td>\n",
       "      <td>2010-01-01</td>\n",
       "      <td>5509006296254</td>\n",
       "      <td>FEDEX SHP 12/23/09 AB#</td>\n",
       "      <td>TN</td>\n",
       "      <td>38118.0</td>\n",
       "      <td>P</td>\n",
       "      <td>3.62</td>\n",
       "      <td>0</td>\n",
       "      <td>1.0</td>\n",
       "    </tr>\n",
       "    <tr>\n",
       "      <th>2010-01-01</th>\n",
       "      <td>2</td>\n",
       "      <td>5142183973</td>\n",
       "      <td>2010-01-01</td>\n",
       "      <td>61003026333</td>\n",
       "      <td>SERVICE MERCHANDISE #81</td>\n",
       "      <td>MA</td>\n",
       "      <td>1803.0</td>\n",
       "      <td>P</td>\n",
       "      <td>31.42</td>\n",
       "      <td>0</td>\n",
       "      <td>1.0</td>\n",
       "    </tr>\n",
       "    <tr>\n",
       "      <th>2010-01-01</th>\n",
       "      <td>3</td>\n",
       "      <td>5142131721</td>\n",
       "      <td>2010-01-01</td>\n",
       "      <td>4503082993600</td>\n",
       "      <td>OFFICE DEPOT #191</td>\n",
       "      <td>MD</td>\n",
       "      <td>20706.0</td>\n",
       "      <td>P</td>\n",
       "      <td>178.49</td>\n",
       "      <td>0</td>\n",
       "      <td>1.0</td>\n",
       "    </tr>\n",
       "    <tr>\n",
       "      <th>2010-01-01</th>\n",
       "      <td>4</td>\n",
       "      <td>5142148452</td>\n",
       "      <td>2010-01-01</td>\n",
       "      <td>5509006296254</td>\n",
       "      <td>FEDEX SHP 12/28/09 AB#</td>\n",
       "      <td>TN</td>\n",
       "      <td>38118.0</td>\n",
       "      <td>P</td>\n",
       "      <td>3.62</td>\n",
       "      <td>0</td>\n",
       "      <td>1.0</td>\n",
       "    </tr>\n",
       "    <tr>\n",
       "      <th>2010-01-01</th>\n",
       "      <td>5</td>\n",
       "      <td>5142190439</td>\n",
       "      <td>2010-01-01</td>\n",
       "      <td>5509006296254</td>\n",
       "      <td>FEDEX SHP 12/23/09 AB#</td>\n",
       "      <td>TN</td>\n",
       "      <td>38118.0</td>\n",
       "      <td>P</td>\n",
       "      <td>3.62</td>\n",
       "      <td>0</td>\n",
       "      <td>1.0</td>\n",
       "    </tr>\n",
       "    <tr>\n",
       "      <th>...</th>\n",
       "      <td>...</td>\n",
       "      <td>...</td>\n",
       "      <td>...</td>\n",
       "      <td>...</td>\n",
       "      <td>...</td>\n",
       "      <td>...</td>\n",
       "      <td>...</td>\n",
       "      <td>...</td>\n",
       "      <td>...</td>\n",
       "      <td>...</td>\n",
       "      <td>...</td>\n",
       "    </tr>\n",
       "    <tr>\n",
       "      <th>2010-12-31</th>\n",
       "      <td>96749</td>\n",
       "      <td>5142276053</td>\n",
       "      <td>2010-12-31</td>\n",
       "      <td>3500000006160</td>\n",
       "      <td>BEST BUY      00001610</td>\n",
       "      <td>KY</td>\n",
       "      <td>41042.0</td>\n",
       "      <td>P</td>\n",
       "      <td>84.79</td>\n",
       "      <td>0</td>\n",
       "      <td>1.0</td>\n",
       "    </tr>\n",
       "    <tr>\n",
       "      <th>2010-12-31</th>\n",
       "      <td>96750</td>\n",
       "      <td>5142225701</td>\n",
       "      <td>2010-12-31</td>\n",
       "      <td>8090710030950</td>\n",
       "      <td>MARKUS OFFICE SUPPLIES</td>\n",
       "      <td>OH</td>\n",
       "      <td>45248.0</td>\n",
       "      <td>P</td>\n",
       "      <td>118.75</td>\n",
       "      <td>0</td>\n",
       "      <td>1.0</td>\n",
       "    </tr>\n",
       "    <tr>\n",
       "      <th>2010-12-31</th>\n",
       "      <td>96751</td>\n",
       "      <td>5142226486</td>\n",
       "      <td>2010-12-31</td>\n",
       "      <td>4503057341100</td>\n",
       "      <td>TECH PAC, INC</td>\n",
       "      <td>OH</td>\n",
       "      <td>45150.0</td>\n",
       "      <td>P</td>\n",
       "      <td>363.56</td>\n",
       "      <td>0</td>\n",
       "      <td>1.0</td>\n",
       "    </tr>\n",
       "    <tr>\n",
       "      <th>2010-12-31</th>\n",
       "      <td>96752</td>\n",
       "      <td>5142244619</td>\n",
       "      <td>2010-12-31</td>\n",
       "      <td>8834000695412</td>\n",
       "      <td>BUY.COM</td>\n",
       "      <td>CA</td>\n",
       "      <td>92656.0</td>\n",
       "      <td>P</td>\n",
       "      <td>2202.03</td>\n",
       "      <td>0</td>\n",
       "      <td>1.0</td>\n",
       "    </tr>\n",
       "    <tr>\n",
       "      <th>2010-12-31</th>\n",
       "      <td>96753</td>\n",
       "      <td>5142243247</td>\n",
       "      <td>2010-12-31</td>\n",
       "      <td>9108347680006</td>\n",
       "      <td>STAPLES NATIONAL #471</td>\n",
       "      <td>NJ</td>\n",
       "      <td>7606.0</td>\n",
       "      <td>P</td>\n",
       "      <td>554.64</td>\n",
       "      <td>0</td>\n",
       "      <td>1.0</td>\n",
       "    </tr>\n",
       "  </tbody>\n",
       "</table>\n",
       "<p>96753 rows × 11 columns</p>\n",
       "</div>"
      ],
      "text/plain": [
       "            Recnum     Cardnum       Date       Merchnum  \\\n",
       "Date                                                       \n",
       "2010-01-01       1  5142190439 2010-01-01  5509006296254   \n",
       "2010-01-01       2  5142183973 2010-01-01    61003026333   \n",
       "2010-01-01       3  5142131721 2010-01-01  4503082993600   \n",
       "2010-01-01       4  5142148452 2010-01-01  5509006296254   \n",
       "2010-01-01       5  5142190439 2010-01-01  5509006296254   \n",
       "...            ...         ...        ...            ...   \n",
       "2010-12-31   96749  5142276053 2010-12-31  3500000006160   \n",
       "2010-12-31   96750  5142225701 2010-12-31  8090710030950   \n",
       "2010-12-31   96751  5142226486 2010-12-31  4503057341100   \n",
       "2010-12-31   96752  5142244619 2010-12-31  8834000695412   \n",
       "2010-12-31   96753  5142243247 2010-12-31  9108347680006   \n",
       "\n",
       "                  Merch description Merch state  Merch zip Transtype   Amount  \\\n",
       "Date                                                                            \n",
       "2010-01-01   FEDEX SHP 12/23/09 AB#          TN    38118.0         P     3.62   \n",
       "2010-01-01  SERVICE MERCHANDISE #81          MA     1803.0         P    31.42   \n",
       "2010-01-01        OFFICE DEPOT #191          MD    20706.0         P   178.49   \n",
       "2010-01-01   FEDEX SHP 12/28/09 AB#          TN    38118.0         P     3.62   \n",
       "2010-01-01   FEDEX SHP 12/23/09 AB#          TN    38118.0         P     3.62   \n",
       "...                             ...         ...        ...       ...      ...   \n",
       "2010-12-31   BEST BUY      00001610          KY    41042.0         P    84.79   \n",
       "2010-12-31   MARKUS OFFICE SUPPLIES          OH    45248.0         P   118.75   \n",
       "2010-12-31            TECH PAC, INC          OH    45150.0         P   363.56   \n",
       "2010-12-31                  BUY.COM          CA    92656.0         P  2202.03   \n",
       "2010-12-31    STAPLES NATIONAL #471          NJ     7606.0         P   554.64   \n",
       "\n",
       "            Fraud  trx  \n",
       "Date                    \n",
       "2010-01-01      0  1.0  \n",
       "2010-01-01      0  1.0  \n",
       "2010-01-01      0  1.0  \n",
       "2010-01-01      0  1.0  \n",
       "2010-01-01      0  1.0  \n",
       "...           ...  ...  \n",
       "2010-12-31      0  1.0  \n",
       "2010-12-31      0  1.0  \n",
       "2010-12-31      0  1.0  \n",
       "2010-12-31      0  1.0  \n",
       "2010-12-31      0  1.0  \n",
       "\n",
       "[96753 rows x 11 columns]"
      ]
     },
     "execution_count": 9,
     "metadata": {},
     "output_type": "execute_result"
    }
   ],
   "source": [
    "mydata.assign(trx = np.ones(numrecords)).set_index(mydata['Date'])"
   ]
  },
  {
   "cell_type": "code",
   "execution_count": 8,
   "metadata": {},
   "outputs": [
    {
     "data": {
      "text/html": [
       "<div>\n",
       "<style scoped>\n",
       "    .dataframe tbody tr th:only-of-type {\n",
       "        vertical-align: middle;\n",
       "    }\n",
       "\n",
       "    .dataframe tbody tr th {\n",
       "        vertical-align: top;\n",
       "    }\n",
       "\n",
       "    .dataframe thead th {\n",
       "        text-align: right;\n",
       "    }\n",
       "</style>\n",
       "<table border=\"1\" class=\"dataframe\">\n",
       "  <thead>\n",
       "    <tr style=\"text-align: right;\">\n",
       "      <th></th>\n",
       "      <th>Recnum</th>\n",
       "      <th>Cardnum</th>\n",
       "      <th>Date</th>\n",
       "      <th>Merchnum</th>\n",
       "      <th>Merch description</th>\n",
       "      <th>Merch state</th>\n",
       "      <th>Merch zip</th>\n",
       "      <th>Transtype</th>\n",
       "      <th>Amount</th>\n",
       "      <th>Fraud</th>\n",
       "      <th>trx</th>\n",
       "    </tr>\n",
       "    <tr>\n",
       "      <th>Date</th>\n",
       "      <th></th>\n",
       "      <th></th>\n",
       "      <th></th>\n",
       "      <th></th>\n",
       "      <th></th>\n",
       "      <th></th>\n",
       "      <th></th>\n",
       "      <th></th>\n",
       "      <th></th>\n",
       "      <th></th>\n",
       "      <th></th>\n",
       "    </tr>\n",
       "  </thead>\n",
       "  <tbody>\n",
       "    <tr>\n",
       "      <th>2010-01-01</th>\n",
       "      <td>51</td>\n",
       "      <td>51</td>\n",
       "      <td>51</td>\n",
       "      <td>51</td>\n",
       "      <td>51</td>\n",
       "      <td>51</td>\n",
       "      <td>51</td>\n",
       "      <td>51</td>\n",
       "      <td>51</td>\n",
       "      <td>51</td>\n",
       "      <td>51</td>\n",
       "    </tr>\n",
       "    <tr>\n",
       "      <th>2010-01-02</th>\n",
       "      <td>29</td>\n",
       "      <td>29</td>\n",
       "      <td>29</td>\n",
       "      <td>29</td>\n",
       "      <td>29</td>\n",
       "      <td>29</td>\n",
       "      <td>10</td>\n",
       "      <td>29</td>\n",
       "      <td>29</td>\n",
       "      <td>29</td>\n",
       "      <td>29</td>\n",
       "    </tr>\n",
       "    <tr>\n",
       "      <th>2010-01-03</th>\n",
       "      <td>159</td>\n",
       "      <td>159</td>\n",
       "      <td>159</td>\n",
       "      <td>153</td>\n",
       "      <td>159</td>\n",
       "      <td>157</td>\n",
       "      <td>153</td>\n",
       "      <td>159</td>\n",
       "      <td>159</td>\n",
       "      <td>159</td>\n",
       "      <td>159</td>\n",
       "    </tr>\n",
       "    <tr>\n",
       "      <th>2010-01-04</th>\n",
       "      <td>229</td>\n",
       "      <td>229</td>\n",
       "      <td>229</td>\n",
       "      <td>221</td>\n",
       "      <td>229</td>\n",
       "      <td>226</td>\n",
       "      <td>221</td>\n",
       "      <td>229</td>\n",
       "      <td>229</td>\n",
       "      <td>229</td>\n",
       "      <td>229</td>\n",
       "    </tr>\n",
       "    <tr>\n",
       "      <th>2010-01-05</th>\n",
       "      <td>309</td>\n",
       "      <td>309</td>\n",
       "      <td>309</td>\n",
       "      <td>286</td>\n",
       "      <td>309</td>\n",
       "      <td>299</td>\n",
       "      <td>297</td>\n",
       "      <td>309</td>\n",
       "      <td>309</td>\n",
       "      <td>309</td>\n",
       "      <td>309</td>\n",
       "    </tr>\n",
       "    <tr>\n",
       "      <th>...</th>\n",
       "      <td>...</td>\n",
       "      <td>...</td>\n",
       "      <td>...</td>\n",
       "      <td>...</td>\n",
       "      <td>...</td>\n",
       "      <td>...</td>\n",
       "      <td>...</td>\n",
       "      <td>...</td>\n",
       "      <td>...</td>\n",
       "      <td>...</td>\n",
       "      <td>...</td>\n",
       "    </tr>\n",
       "    <tr>\n",
       "      <th>2010-12-27</th>\n",
       "      <td>199</td>\n",
       "      <td>199</td>\n",
       "      <td>199</td>\n",
       "      <td>190</td>\n",
       "      <td>199</td>\n",
       "      <td>196</td>\n",
       "      <td>192</td>\n",
       "      <td>199</td>\n",
       "      <td>199</td>\n",
       "      <td>199</td>\n",
       "      <td>199</td>\n",
       "    </tr>\n",
       "    <tr>\n",
       "      <th>2010-12-28</th>\n",
       "      <td>216</td>\n",
       "      <td>216</td>\n",
       "      <td>216</td>\n",
       "      <td>211</td>\n",
       "      <td>216</td>\n",
       "      <td>215</td>\n",
       "      <td>203</td>\n",
       "      <td>216</td>\n",
       "      <td>216</td>\n",
       "      <td>216</td>\n",
       "      <td>216</td>\n",
       "    </tr>\n",
       "    <tr>\n",
       "      <th>2010-12-29</th>\n",
       "      <td>263</td>\n",
       "      <td>263</td>\n",
       "      <td>263</td>\n",
       "      <td>252</td>\n",
       "      <td>263</td>\n",
       "      <td>258</td>\n",
       "      <td>246</td>\n",
       "      <td>263</td>\n",
       "      <td>263</td>\n",
       "      <td>263</td>\n",
       "      <td>263</td>\n",
       "    </tr>\n",
       "    <tr>\n",
       "      <th>2010-12-30</th>\n",
       "      <td>200</td>\n",
       "      <td>200</td>\n",
       "      <td>200</td>\n",
       "      <td>191</td>\n",
       "      <td>200</td>\n",
       "      <td>197</td>\n",
       "      <td>191</td>\n",
       "      <td>200</td>\n",
       "      <td>200</td>\n",
       "      <td>200</td>\n",
       "      <td>200</td>\n",
       "    </tr>\n",
       "    <tr>\n",
       "      <th>2010-12-31</th>\n",
       "      <td>53</td>\n",
       "      <td>53</td>\n",
       "      <td>53</td>\n",
       "      <td>51</td>\n",
       "      <td>53</td>\n",
       "      <td>52</td>\n",
       "      <td>49</td>\n",
       "      <td>53</td>\n",
       "      <td>53</td>\n",
       "      <td>53</td>\n",
       "      <td>53</td>\n",
       "    </tr>\n",
       "  </tbody>\n",
       "</table>\n",
       "<p>365 rows × 11 columns</p>\n",
       "</div>"
      ],
      "text/plain": [
       "            Recnum  Cardnum  Date  Merchnum  Merch description  Merch state  \\\n",
       "Date                                                                          \n",
       "2010-01-01      51       51    51        51                 51           51   \n",
       "2010-01-02      29       29    29        29                 29           29   \n",
       "2010-01-03     159      159   159       153                159          157   \n",
       "2010-01-04     229      229   229       221                229          226   \n",
       "2010-01-05     309      309   309       286                309          299   \n",
       "...            ...      ...   ...       ...                ...          ...   \n",
       "2010-12-27     199      199   199       190                199          196   \n",
       "2010-12-28     216      216   216       211                216          215   \n",
       "2010-12-29     263      263   263       252                263          258   \n",
       "2010-12-30     200      200   200       191                200          197   \n",
       "2010-12-31      53       53    53        51                 53           52   \n",
       "\n",
       "            Merch zip  Transtype  Amount  Fraud  trx  \n",
       "Date                                                  \n",
       "2010-01-01         51         51      51     51   51  \n",
       "2010-01-02         10         29      29     29   29  \n",
       "2010-01-03        153        159     159    159  159  \n",
       "2010-01-04        221        229     229    229  229  \n",
       "2010-01-05        297        309     309    309  309  \n",
       "...               ...        ...     ...    ...  ...  \n",
       "2010-12-27        192        199     199    199  199  \n",
       "2010-12-28        203        216     216    216  216  \n",
       "2010-12-29        246        263     263    263  263  \n",
       "2010-12-30        191        200     200    200  200  \n",
       "2010-12-31         49         53      53     53   53  \n",
       "\n",
       "[365 rows x 11 columns]"
      ]
     },
     "execution_count": 8,
     "metadata": {},
     "output_type": "execute_result"
    }
   ],
   "source": [
    "mydata.assign(trx = np.ones(numrecords)).set_index(mydata['Date']).resample(dt.timedelta(days = 1))\\\n",
    "    .count()"
   ]
  },
  {
   "cell_type": "code",
   "execution_count": 16,
   "metadata": {},
   "outputs": [
    {
     "data": {
      "text/plain": [
       "1"
      ]
     },
     "execution_count": 16,
     "metadata": {},
     "output_type": "execute_result"
    }
   ],
   "source": [
    "x = dt.timedelta(days = 1)\n",
    "x.days"
   ]
  },
  {
   "cell_type": "code",
   "execution_count": 16,
   "metadata": {},
   "outputs": [
    {
     "data": {
      "text/plain": [
       "<matplotlib.axes._subplots.AxesSubplot at 0x1a1c39e9b0>"
      ]
     },
     "execution_count": 16,
     "metadata": {},
     "output_type": "execute_result"
    },
    {
     "data": {
      "image/png": "[encoded data removed]",
      "text/plain": [
       "<Figure size 432x288 with 1 Axes>"
      ]
     },
     "metadata": {},
     "output_type": "display_data"
    }
   ],
   "source": [
    "mydata.assign(trx = np.ones(numrecords)).set_index(mydata['Date']).resample(dt.timedelta(days = 1))\\\n",
    "    .count().trx.plot(title = 'Daily Transactions')"
   ]
  },
  {
   "cell_type": "code",
   "execution_count": 17,
   "metadata": {},
   "outputs": [
    {
     "data": {
      "text/plain": [
       "<matplotlib.axes._subplots.AxesSubplot at 0x1a192e87f0>"
      ]
     },
     "execution_count": 17,
     "metadata": {},
     "output_type": "execute_result"
    },
    {
     "data": {
      "image/png": "[encoded data removed]",
      "text/plain": [
       "<Figure size 432x288 with 1 Axes>"
      ]
     },
     "metadata": {},
     "output_type": "display_data"
    }
   ],
   "source": [
    "mydata.assign(trx = np.ones(numrecords)).set_index(mydata['Date']).resample(dt.timedelta(days = 7))\\\n",
    "    .count().trx.plot(title = 'Weekly Transactions')"
   ]
  },
  {
   "cell_type": "code",
   "execution_count": 26,
   "metadata": {},
   "outputs": [
    {
     "data": {
      "text/html": [
       "<div>\n",
       "<style scoped>\n",
       "    .dataframe tbody tr th:only-of-type {\n",
       "        vertical-align: middle;\n",
       "    }\n",
       "\n",
       "    .dataframe tbody tr th {\n",
       "        vertical-align: top;\n",
       "    }\n",
       "\n",
       "    .dataframe thead th {\n",
       "        text-align: right;\n",
       "    }\n",
       "</style>\n",
       "<table border=\"1\" class=\"dataframe\">\n",
       "  <thead>\n",
       "    <tr style=\"text-align: right;\">\n",
       "      <th></th>\n",
       "      <th>Recnum</th>\n",
       "      <th>Cardnum</th>\n",
       "      <th>Date</th>\n",
       "      <th>Merchnum</th>\n",
       "      <th>Merch description</th>\n",
       "      <th>Merch state</th>\n",
       "      <th>Merch zip</th>\n",
       "      <th>Transtype</th>\n",
       "      <th>Amount</th>\n",
       "      <th>Fraud</th>\n",
       "      <th>trx</th>\n",
       "    </tr>\n",
       "    <tr>\n",
       "      <th>Date</th>\n",
       "      <th></th>\n",
       "      <th></th>\n",
       "      <th></th>\n",
       "      <th></th>\n",
       "      <th></th>\n",
       "      <th></th>\n",
       "      <th></th>\n",
       "      <th></th>\n",
       "      <th></th>\n",
       "      <th></th>\n",
       "      <th></th>\n",
       "    </tr>\n",
       "  </thead>\n",
       "  <tbody>\n",
       "    <tr>\n",
       "      <th>2010-01-01</th>\n",
       "      <td>6547</td>\n",
       "      <td>6547</td>\n",
       "      <td>6547</td>\n",
       "      <td>6276</td>\n",
       "      <td>6547</td>\n",
       "      <td>6452</td>\n",
       "      <td>6207</td>\n",
       "      <td>6547</td>\n",
       "      <td>6547</td>\n",
       "      <td>6547</td>\n",
       "      <td>6547</td>\n",
       "    </tr>\n",
       "    <tr>\n",
       "      <th>2010-01-31</th>\n",
       "      <td>8450</td>\n",
       "      <td>8450</td>\n",
       "      <td>8450</td>\n",
       "      <td>8162</td>\n",
       "      <td>8450</td>\n",
       "      <td>8402</td>\n",
       "      <td>7897</td>\n",
       "      <td>8450</td>\n",
       "      <td>8450</td>\n",
       "      <td>8450</td>\n",
       "      <td>8450</td>\n",
       "    </tr>\n",
       "    <tr>\n",
       "      <th>2010-03-02</th>\n",
       "      <td>8990</td>\n",
       "      <td>8990</td>\n",
       "      <td>8990</td>\n",
       "      <td>8617</td>\n",
       "      <td>8990</td>\n",
       "      <td>8849</td>\n",
       "      <td>8521</td>\n",
       "      <td>8990</td>\n",
       "      <td>8990</td>\n",
       "      <td>8990</td>\n",
       "      <td>8990</td>\n",
       "    </tr>\n",
       "    <tr>\n",
       "      <th>2010-04-01</th>\n",
       "      <td>7731</td>\n",
       "      <td>7731</td>\n",
       "      <td>7731</td>\n",
       "      <td>7452</td>\n",
       "      <td>7731</td>\n",
       "      <td>7643</td>\n",
       "      <td>7422</td>\n",
       "      <td>7731</td>\n",
       "      <td>7731</td>\n",
       "      <td>7731</td>\n",
       "      <td>7731</td>\n",
       "    </tr>\n",
       "    <tr>\n",
       "      <th>2010-05-01</th>\n",
       "      <td>8618</td>\n",
       "      <td>8618</td>\n",
       "      <td>8618</td>\n",
       "      <td>8283</td>\n",
       "      <td>8618</td>\n",
       "      <td>8515</td>\n",
       "      <td>8338</td>\n",
       "      <td>8618</td>\n",
       "      <td>8618</td>\n",
       "      <td>8618</td>\n",
       "      <td>8618</td>\n",
       "    </tr>\n",
       "    <tr>\n",
       "      <th>2010-05-31</th>\n",
       "      <td>9228</td>\n",
       "      <td>9228</td>\n",
       "      <td>9228</td>\n",
       "      <td>8977</td>\n",
       "      <td>9228</td>\n",
       "      <td>9150</td>\n",
       "      <td>8899</td>\n",
       "      <td>9228</td>\n",
       "      <td>9228</td>\n",
       "      <td>9228</td>\n",
       "      <td>9228</td>\n",
       "    </tr>\n",
       "    <tr>\n",
       "      <th>2010-06-30</th>\n",
       "      <td>8259</td>\n",
       "      <td>8259</td>\n",
       "      <td>8259</td>\n",
       "      <td>8040</td>\n",
       "      <td>8259</td>\n",
       "      <td>8149</td>\n",
       "      <td>7928</td>\n",
       "      <td>8259</td>\n",
       "      <td>8259</td>\n",
       "      <td>8259</td>\n",
       "      <td>8259</td>\n",
       "    </tr>\n",
       "    <tr>\n",
       "      <th>2010-07-30</th>\n",
       "      <td>9989</td>\n",
       "      <td>9989</td>\n",
       "      <td>9989</td>\n",
       "      <td>9786</td>\n",
       "      <td>9989</td>\n",
       "      <td>9884</td>\n",
       "      <td>9656</td>\n",
       "      <td>9989</td>\n",
       "      <td>9989</td>\n",
       "      <td>9989</td>\n",
       "      <td>9989</td>\n",
       "    </tr>\n",
       "    <tr>\n",
       "      <th>2010-08-29</th>\n",
       "      <td>10199</td>\n",
       "      <td>10199</td>\n",
       "      <td>10199</td>\n",
       "      <td>9959</td>\n",
       "      <td>10199</td>\n",
       "      <td>10081</td>\n",
       "      <td>9820</td>\n",
       "      <td>10199</td>\n",
       "      <td>10199</td>\n",
       "      <td>10199</td>\n",
       "      <td>10199</td>\n",
       "    </tr>\n",
       "    <tr>\n",
       "      <th>2010-09-28</th>\n",
       "      <td>5690</td>\n",
       "      <td>5690</td>\n",
       "      <td>5690</td>\n",
       "      <td>5374</td>\n",
       "      <td>5690</td>\n",
       "      <td>5556</td>\n",
       "      <td>5368</td>\n",
       "      <td>5690</td>\n",
       "      <td>5690</td>\n",
       "      <td>5690</td>\n",
       "      <td>5690</td>\n",
       "    </tr>\n",
       "    <tr>\n",
       "      <th>2010-10-28</th>\n",
       "      <td>5836</td>\n",
       "      <td>5836</td>\n",
       "      <td>5836</td>\n",
       "      <td>5545</td>\n",
       "      <td>5836</td>\n",
       "      <td>5755</td>\n",
       "      <td>5387</td>\n",
       "      <td>5836</td>\n",
       "      <td>5836</td>\n",
       "      <td>5836</td>\n",
       "      <td>5836</td>\n",
       "    </tr>\n",
       "    <tr>\n",
       "      <th>2010-11-27</th>\n",
       "      <td>6285</td>\n",
       "      <td>6285</td>\n",
       "      <td>6285</td>\n",
       "      <td>6012</td>\n",
       "      <td>6285</td>\n",
       "      <td>6204</td>\n",
       "      <td>5773</td>\n",
       "      <td>6285</td>\n",
       "      <td>6285</td>\n",
       "      <td>6285</td>\n",
       "      <td>6285</td>\n",
       "    </tr>\n",
       "    <tr>\n",
       "      <th>2010-12-27</th>\n",
       "      <td>931</td>\n",
       "      <td>931</td>\n",
       "      <td>931</td>\n",
       "      <td>895</td>\n",
       "      <td>931</td>\n",
       "      <td>918</td>\n",
       "      <td>881</td>\n",
       "      <td>931</td>\n",
       "      <td>931</td>\n",
       "      <td>931</td>\n",
       "      <td>931</td>\n",
       "    </tr>\n",
       "  </tbody>\n",
       "</table>\n",
       "</div>"
      ],
      "text/plain": [
       "            Recnum  Cardnum   Date  Merchnum  Merch description  Merch state  \\\n",
       "Date                                                                           \n",
       "2010-01-01    6547     6547   6547      6276               6547         6452   \n",
       "2010-01-31    8450     8450   8450      8162               8450         8402   \n",
       "2010-03-02    8990     8990   8990      8617               8990         8849   \n",
       "2010-04-01    7731     7731   7731      7452               7731         7643   \n",
       "2010-05-01    8618     8618   8618      8283               8618         8515   \n",
       "2010-05-31    9228     9228   9228      8977               9228         9150   \n",
       "2010-06-30    8259     8259   8259      8040               8259         8149   \n",
       "2010-07-30    9989     9989   9989      9786               9989         9884   \n",
       "2010-08-29   10199    10199  10199      9959              10199        10081   \n",
       "2010-09-28    5690     5690   5690      5374               5690         5556   \n",
       "2010-10-28    5836     5836   5836      5545               5836         5755   \n",
       "2010-11-27    6285     6285   6285      6012               6285         6204   \n",
       "2010-12-27     931      931    931       895                931          918   \n",
       "\n",
       "            Merch zip  Transtype  Amount  Fraud    trx  \n",
       "Date                                                    \n",
       "2010-01-01       6207       6547    6547   6547   6547  \n",
       "2010-01-31       7897       8450    8450   8450   8450  \n",
       "2010-03-02       8521       8990    8990   8990   8990  \n",
       "2010-04-01       7422       7731    7731   7731   7731  \n",
       "2010-05-01       8338       8618    8618   8618   8618  \n",
       "2010-05-31       8899       9228    9228   9228   9228  \n",
       "2010-06-30       7928       8259    8259   8259   8259  \n",
       "2010-07-30       9656       9989    9989   9989   9989  \n",
       "2010-08-29       9820      10199   10199  10199  10199  \n",
       "2010-09-28       5368       5690    5690   5690   5690  \n",
       "2010-10-28       5387       5836    5836   5836   5836  \n",
       "2010-11-27       5773       6285    6285   6285   6285  \n",
       "2010-12-27        881        931     931    931    931  "
      ]
     },
     "execution_count": 26,
     "metadata": {},
     "output_type": "execute_result"
    }
   ],
   "source": [
    "mydata.assign(trx = np.ones(numrecords)).set_index(mydata['Date']).resample(dt.timedelta(days = 30))\\\n",
    "    .count()"
   ]
  },
  {
   "cell_type": "code",
   "execution_count": 18,
   "metadata": {},
   "outputs": [
    {
     "data": {
      "text/plain": [
       "<matplotlib.axes._subplots.AxesSubplot at 0x1a1af75c18>"
      ]
     },
     "execution_count": 18,
     "metadata": {},
     "output_type": "execute_result"
    },
    {
     "data": {
      "image/png": "[encoded data removed]",
      "text/plain": [
       "<Figure size 432x288 with 1 Axes>"
      ]
     },
     "metadata": {},
     "output_type": "display_data"
    }
   ],
   "source": [
    "mydata.assign(trx = np.ones(numrecords)).set_index(mydata['Date']).resample(dt.timedelta(days = 30))\\\n",
    "    .count().trx.plot(title = 'Approximately Monthly Transactions')"
   ]
  },
  {
   "cell_type": "code",
   "execution_count": 19,
   "metadata": {},
   "outputs": [
    {
     "data": {
      "text/plain": [
       "13092"
      ]
     },
     "execution_count": 19,
     "metadata": {},
     "output_type": "execute_result"
    }
   ],
   "source": [
    "len(mydata['Merchnum'].unique())"
   ]
  },
  {
   "cell_type": "code",
   "execution_count": 20,
   "metadata": {
    "scrolled": true
   },
   "outputs": [
    {
     "data": {
      "text/plain": [
       "930090121224     9310\n",
       "5509006296254    2131\n",
       "9900020006406    1714\n",
       "602608969534     1092\n",
       "4353000719908    1020\n",
       "410000971343      982\n",
       "9918000409955     956\n",
       "5725000466504     872\n",
       "9108234610000     817\n",
       "602608969138      783\n",
       "Name: Merchnum, dtype: int64"
      ]
     },
     "execution_count": 20,
     "metadata": {},
     "output_type": "execute_result"
    }
   ],
   "source": [
    "mydata['Merchnum'].value_counts().head(10)"
   ]
  },
  {
   "cell_type": "code",
   "execution_count": 28,
   "metadata": {},
   "outputs": [
    {
     "data": {
      "text/plain": [
       "0"
      ]
     },
     "execution_count": 28,
     "metadata": {},
     "output_type": "execute_result"
    }
   ],
   "source": [
    "len(mydata[mydata['Merchnum'] == 0])"
   ]
  },
  {
   "cell_type": "code",
   "execution_count": 21,
   "metadata": {},
   "outputs": [
    {
     "data": {
      "text/plain": [
       "(100, 10751.574797112271)"
      ]
     },
     "execution_count": 21,
     "metadata": {},
     "output_type": "execute_result"
    },
    {
     "data": {
      "image/png": "[encoded data removed]",
      "text/plain": [
       "<Figure size 432x288 with 1 Axes>"
      ]
     },
     "metadata": {},
     "output_type": "display_data"
    }
   ],
   "source": [
    "mydata['Merchnum'].value_counts().head(15).plot(kind = 'bar')\n",
    "plt.yscale('log')\n",
    "plt.ylim(bottom = 100)"
   ]
  },
  {
   "cell_type": "code",
   "execution_count": 22,
   "metadata": {},
   "outputs": [
    {
     "data": {
      "text/plain": [
       "13126"
      ]
     },
     "execution_count": 22,
     "metadata": {},
     "output_type": "execute_result"
    }
   ],
   "source": [
    "len(mydata['Merch description'].unique())"
   ]
  },
  {
   "cell_type": "code",
   "execution_count": 23,
   "metadata": {},
   "outputs": [
    {
     "data": {
      "text/plain": [
       "GSA-FSS-ADV                  1688\n",
       "SIGMA-ALDRICH                1635\n",
       "STAPLES #941                 1174\n",
       "FISHER SCI ATL               1093\n",
       "MWI*MICRO WAREHOUSE           958\n",
       "CDW*GOVERNMENT INC            872\n",
       "DELL MARKETING L.P.           816\n",
       "FISHER SCI CHI                783\n",
       "AMAZON.COM  *SUPERSTOR        750\n",
       "OFFICE DEPOT #1082            748\n",
       "VWR SCIENTIFIC PROD VCTS      688\n",
       "PC *PC CONNECTION             570\n",
       "C & C PRODUCT SERVICES        558\n",
       "BUY.COM                       481\n",
       "FISHER SCI HUS                442\n",
       "GSA/CUST SUPPLY CTR 97        435\n",
       "LAB SAFETY SUPPLY, INC        431\n",
       "PROFESS OFC ENTERPRISES       421\n",
       "FRANKLIN COVEY COMPANY        418\n",
       "STAPLES NATIONAL #471         417\n",
       "GLOBAL COMPUTER SUPPLY        410\n",
       "A DAIGER AND CO INC           392\n",
       "RETAIL CREDIT ADJUSTMENT      383\n",
       "GOVERNMENT SCIENTIFIC SOU     362\n",
       "LABSOURCE INC                 346\n",
       "COLE PARMER INSTRUMENT        341\n",
       "MC MASTER CARR SUPP           311\n",
       "GTSI                          309\n",
       "RETAIL DEBIT ADJUSTMENT       308\n",
       "THE LIGHTHOUSE                307\n",
       "                             ... \n",
       "THE LYONS PRESS                 1\n",
       "TANGIPAHOA CLERKOFCOURT 0       1\n",
       "TRAVEL BOOKS & LANG CT          1\n",
       "KSU BUSINESS OFFICE             1\n",
       "LOWE'S #587                     1\n",
       "BOISECASCADE*IN#882419          1\n",
       "WESCO DISTRIBUTION #5687        1\n",
       "POLAROID**                      1\n",
       "LAMOTTE CO                      1\n",
       "BLACKWELL PUBLISHERS            1\n",
       "PHILLIPS 6604751440126          1\n",
       "ACE HARDWARE/SOUTH LOOP         1\n",
       "DELTA AIR   0067126913205       1\n",
       "DIRECTION ON MICROSOFT          1\n",
       "N.A.K. MANAGEMENT SVCS          1\n",
       "BAGPEDDLER COM                  1\n",
       "TRAVEL 2000 #07                 1\n",
       "UGA BOOKSTORE                   1\n",
       "WKU CASHIER'S OFFICE            1\n",
       "PACIFIC SURVEY SUPPLY           1\n",
       "FEDERAL LOCK AND SAFE           1\n",
       "S.C. DEPT.OF REVENUE DMR0       1\n",
       "USGPO RETAIL SALES BR           1\n",
       "SATLANTIC INC                   1\n",
       "APPDEV TRAINING CO              1\n",
       "REGISTRAR OF CONVEYANCES        1\n",
       "ANDERSON COMPUTER SYSTEM        1\n",
       "PLAZA MASSO                     1\n",
       "ART & FRAME GALLERY             1\n",
       "KINKO'S,INC 1827                1\n",
       "Name: Merch description, Length: 13126, dtype: int64"
      ]
     },
     "execution_count": 23,
     "metadata": {},
     "output_type": "execute_result"
    }
   ],
   "source": [
    "mydata['Merch description'].value_counts()"
   ]
  },
  {
   "cell_type": "code",
   "execution_count": 33,
   "metadata": {},
   "outputs": [
    {
     "data": {
      "text/plain": [
       "(100, 1772.4)"
      ]
     },
     "execution_count": 33,
     "metadata": {},
     "output_type": "execute_result"
    },
    {
     "data": {
      "image/png": "[encoded data removed]",
      "text/plain": [
       "<Figure size 432x288 with 1 Axes>"
      ]
     },
     "metadata": {},
     "output_type": "display_data"
    }
   ],
   "source": [
    "sns.set(font_scale=1.5)\n",
    "mydata['Merch description'].value_counts().head(15).plot(kind = 'bar')\n",
    "\n",
    "#plt.yscale('log')\n",
    "plt.ylim(bottom = 100)"
   ]
  },
  {
   "cell_type": "code",
   "execution_count": 24,
   "metadata": {},
   "outputs": [
    {
     "data": {
      "text/plain": [
       "228"
      ]
     },
     "execution_count": 24,
     "metadata": {},
     "output_type": "execute_result"
    }
   ],
   "source": [
    "len(mydata['Merch state'].unique())"
   ]
  },
  {
   "cell_type": "code",
   "execution_count": 25,
   "metadata": {},
   "outputs": [
    {
     "data": {
      "text/plain": [
       "TN     12035\n",
       "VA      7872\n",
       "CA      6817\n",
       "IL      6508\n",
       "MD      5398\n",
       "GA      5025\n",
       "PA      4899\n",
       "NJ      3912\n",
       "TX      3790\n",
       "NC      3322\n",
       "WA      3300\n",
       "DC      3208\n",
       "OH      3131\n",
       "NY      2430\n",
       "MO      2420\n",
       "FL      2143\n",
       "MA      2081\n",
       "MI      2033\n",
       "CO      1987\n",
       "OR      1510\n",
       "KS      1236\n",
       "WI       953\n",
       "CT       952\n",
       "MN       939\n",
       "UT       939\n",
       "NH       908\n",
       "NV       726\n",
       "KY       520\n",
       "RI       467\n",
       "OK       411\n",
       "       ...  \n",
       "189        1\n",
       "656        1\n",
       "972        1\n",
       "554        1\n",
       "770        1\n",
       "989        1\n",
       "494        1\n",
       "399        1\n",
       "713        1\n",
       "556        1\n",
       "171        1\n",
       "846        1\n",
       "499        1\n",
       "258        1\n",
       "808        1\n",
       "450        1\n",
       "536        1\n",
       "937        1\n",
       "784        1\n",
       "380        1\n",
       "635        1\n",
       "279        1\n",
       "275        1\n",
       "341        1\n",
       "387        1\n",
       "787        1\n",
       "587        1\n",
       "051        1\n",
       "841        1\n",
       "625        1\n",
       "Name: Merch state, Length: 227, dtype: int64"
      ]
     },
     "execution_count": 25,
     "metadata": {},
     "output_type": "execute_result"
    }
   ],
   "source": [
    "mydata['Merch state'].value_counts()"
   ]
  },
  {
   "cell_type": "code",
   "execution_count": 35,
   "metadata": {},
   "outputs": [
    {
     "data": {
      "text/plain": [
       "0"
      ]
     },
     "execution_count": 35,
     "metadata": {},
     "output_type": "execute_result"
    }
   ],
   "source": [
    "len(mydata[mydata['Merch state'] == 0])"
   ]
  },
  {
   "cell_type": "code",
   "execution_count": 26,
   "metadata": {},
   "outputs": [
    {
     "data": {
      "text/plain": [
       "4568"
      ]
     },
     "execution_count": 26,
     "metadata": {},
     "output_type": "execute_result"
    }
   ],
   "source": [
    "len(mydata['Merch zip'].unique())"
   ]
  },
  {
   "cell_type": "code",
   "execution_count": 27,
   "metadata": {},
   "outputs": [
    {
     "data": {
      "text/plain": [
       "38118.0    11868\n",
       "63103.0     1650\n",
       "8701.0      1267\n",
       "22202.0     1250\n",
       "60061.0     1221\n",
       "98101.0     1197\n",
       "17201.0     1180\n",
       "30091.0     1092\n",
       "60143.0      942\n",
       "60069.0      826\n",
       "78682.0      817\n",
       "19380.0      769\n",
       "20763.0      749\n",
       "20005.0      648\n",
       "20748.0      592\n",
       "20151.0      588\n",
       "22182.0      583\n",
       "97213.0      578\n",
       "22304.0      563\n",
       "92656.0      552\n",
       "20036.0      522\n",
       "84119.0      513\n",
       "22150.0      501\n",
       "77251.0      487\n",
       "19103.0      477\n",
       "53546.0      432\n",
       "7606.0       419\n",
       "22314.0      400\n",
       "60610.0      373\n",
       "27707.0      362\n",
       "           ...  \n",
       "56308.0        1\n",
       "90405.0        1\n",
       "7072.0         1\n",
       "45217.0        1\n",
       "18515.0        1\n",
       "74084.0        1\n",
       "74101.0        1\n",
       "74103.0        1\n",
       "74107.0        1\n",
       "74115.0        1\n",
       "37064.0        1\n",
       "74133.0        1\n",
       "74135.0        1\n",
       "48824.0        1\n",
       "5661.0         1\n",
       "37205.0        1\n",
       "6810.0         1\n",
       "44073.0        1\n",
       "37130.0        1\n",
       "15220.0        1\n",
       "37133.0        1\n",
       "22664.0        1\n",
       "37146.0        1\n",
       "90710.0        1\n",
       "90712.0        1\n",
       "90740.0        1\n",
       "45365.0        1\n",
       "14604.0        1\n",
       "74401.0        1\n",
       "5.0            1\n",
       "Name: Merch zip, Length: 4567, dtype: int64"
      ]
     },
     "execution_count": 27,
     "metadata": {},
     "output_type": "execute_result"
    }
   ],
   "source": [
    "mydata['Merch zip'].value_counts()"
   ]
  },
  {
   "cell_type": "code",
   "execution_count": 36,
   "metadata": {},
   "outputs": [
    {
     "data": {
      "text/plain": [
       "0"
      ]
     },
     "execution_count": 36,
     "metadata": {},
     "output_type": "execute_result"
    }
   ],
   "source": [
    "len(mydata[mydata['Merch zip'] == 0])"
   ]
  },
  {
   "cell_type": "code",
   "execution_count": 38,
   "metadata": {},
   "outputs": [
    {
     "data": {
      "text/plain": [
       "(100, 13787.33503596619)"
      ]
     },
     "execution_count": 38,
     "metadata": {},
     "output_type": "execute_result"
    },
    {
     "data": {
      "image/png": "[encoded data removed]",
      "text/plain": [
       "<Figure size 432x288 with 1 Axes>"
      ]
     },
     "metadata": {},
     "output_type": "display_data"
    }
   ],
   "source": [
    "sns.set(font_scale=1.5)\n",
    "mydata['Merch zip'].value_counts().head(15).plot(kind = 'bar')\n",
    "\n",
    "plt.yscale('log')\n",
    "plt.ylim(bottom = 100)\n",
    "\n"
   ]
  },
  {
   "cell_type": "code",
   "execution_count": 28,
   "metadata": {},
   "outputs": [
    {
     "data": {
      "text/plain": [
       "P    96398\n",
       "A      181\n",
       "D      173\n",
       "Y        1\n",
       "Name: Transtype, dtype: int64"
      ]
     },
     "execution_count": 28,
     "metadata": {},
     "output_type": "execute_result"
    }
   ],
   "source": [
    "mydata['Transtype'].value_counts()"
   ]
  },
  {
   "cell_type": "code",
   "execution_count": 40,
   "metadata": {},
   "outputs": [
    {
     "data": {
      "image/png": "[encoded data removed]",
      "text/plain": [
       "<Figure size 432x288 with 1 Axes>"
      ]
     },
     "metadata": {},
     "output_type": "display_data"
    }
   ],
   "source": [
    "sns.set(font_scale=1.5)\n",
    "mydata['Transtype'].value_counts().plot(kind = 'bar')\n",
    "plt.yscale('log')"
   ]
  },
  {
   "cell_type": "code",
   "execution_count": 29,
   "metadata": {},
   "outputs": [
    {
     "data": {
      "text/plain": [
       "3.62       4283\n",
       "3.67       1620\n",
       "3.74        913\n",
       "3.80        827\n",
       "4.37        378\n",
       "30.00       317\n",
       "3.85        271\n",
       "100.00      252\n",
       "75.00       243\n",
       "6.62        219\n",
       "19.95       210\n",
       "150.00      208\n",
       "50.00       205\n",
       "99.00       200\n",
       "300.00      196\n",
       "200.00      193\n",
       "350.00      178\n",
       "250.00      171\n",
       "25.00       171\n",
       "8.31        164\n",
       "60.00       159\n",
       "295.00      158\n",
       "35.00       157\n",
       "2500.00     157\n",
       "195.00      156\n",
       "500.00      149\n",
       "20.00       147\n",
       "199.00      146\n",
       "3.57        136\n",
       "125.00      135\n",
       "           ... \n",
       "2386.84       1\n",
       "275.03        1\n",
       "956.37        1\n",
       "58.84         1\n",
       "4690.00       1\n",
       "480.74        1\n",
       "14.43         1\n",
       "76.34         1\n",
       "484.82        1\n",
       "76.01         1\n",
       "2127.85       1\n",
       "2365.35       1\n",
       "305.96        1\n",
       "607.60        1\n",
       "221.95        1\n",
       "518.80        1\n",
       "412.83        1\n",
       "47.28         1\n",
       "169.19        1\n",
       "675.24        1\n",
       "2481.44       1\n",
       "1073.80       1\n",
       "608.62        1\n",
       "497.69        1\n",
       "76.66         1\n",
       "201.09        1\n",
       "1394.50       1\n",
       "197.73        1\n",
       "282.93        1\n",
       "120.67        1\n",
       "Name: Amount, Length: 34909, dtype: int64"
      ]
     },
     "execution_count": 29,
     "metadata": {},
     "output_type": "execute_result"
    }
   ],
   "source": [
    "mydata['Amount'].value_counts()"
   ]
  },
  {
   "cell_type": "code",
   "execution_count": 42,
   "metadata": {},
   "outputs": [
    {
     "data": {
      "text/plain": [
       "0"
      ]
     },
     "execution_count": 42,
     "metadata": {},
     "output_type": "execute_result"
    }
   ],
   "source": [
    "len(mydata[mydata['Amount'] == 0])"
   ]
  },
  {
   "cell_type": "code",
   "execution_count": 43,
   "metadata": {},
   "outputs": [
    {
     "data": {
      "text/plain": [
       "427.8856774466942"
      ]
     },
     "execution_count": 43,
     "metadata": {},
     "output_type": "execute_result"
    }
   ],
   "source": [
    "np.mean(mydata['Amount'])"
   ]
  },
  {
   "cell_type": "code",
   "execution_count": 44,
   "metadata": {},
   "outputs": [
    {
     "data": {
      "text/plain": [
       "10006.088592054835"
      ]
     },
     "execution_count": 44,
     "metadata": {},
     "output_type": "execute_result"
    }
   ],
   "source": [
    "np.std(mydata['Amount'])"
   ]
  },
  {
   "cell_type": "code",
   "execution_count": 45,
   "metadata": {},
   "outputs": [
    {
     "data": {
      "text/plain": [
       "0.01"
      ]
     },
     "execution_count": 45,
     "metadata": {},
     "output_type": "execute_result"
    }
   ],
   "source": [
    "np.min(mydata['Amount'])"
   ]
  },
  {
   "cell_type": "code",
   "execution_count": 46,
   "metadata": {},
   "outputs": [
    {
     "data": {
      "text/plain": [
       "3102045.53"
      ]
     },
     "execution_count": 46,
     "metadata": {},
     "output_type": "execute_result"
    }
   ],
   "source": [
    "np.max(mydata['Amount'])"
   ]
  },
  {
   "cell_type": "code",
   "execution_count": 30,
   "metadata": {},
   "outputs": [
    {
     "data": {
      "text/plain": [
       "<matplotlib.axes._subplots.AxesSubplot at 0x1a1a67b048>"
      ]
     },
     "execution_count": 30,
     "metadata": {},
     "output_type": "execute_result"
    },
    {
     "data": {
      "image/png": "[encoded data removed]",
      "text/plain": [
       "<Figure size 432x288 with 1 Axes>"
      ]
     },
     "metadata": {},
     "output_type": "display_data"
    }
   ],
   "source": [
    "mydata['Amount'].value_counts().head(15).plot(kind = 'bar')"
   ]
  },
  {
   "cell_type": "code",
   "execution_count": 31,
   "metadata": {},
   "outputs": [
    {
     "data": {
      "text/plain": [
       "(0.1, 171768.2728626341)"
      ]
     },
     "execution_count": 31,
     "metadata": {},
     "output_type": "execute_result"
    },
    {
     "data": {
      "image/png": "[encoded data removed]",
      "text/plain": [
       "<Figure size 432x288 with 1 Axes>"
      ]
     },
     "metadata": {},
     "output_type": "display_data"
    }
   ],
   "source": [
    "plt.hist(mydata['Amount'],bins=50,range=[0,4000000])\n",
    "plt.yscale('log')\n",
    "plt.ylim(bottom = .1)"
   ]
  },
  {
   "cell_type": "code",
   "execution_count": 32,
   "metadata": {},
   "outputs": [
    {
     "data": {
      "image/png": "[encoded data removed]",
      "text/plain": [
       "<Figure size 432x288 with 1 Axes>"
      ]
     },
     "metadata": {},
     "output_type": "display_data"
    }
   ],
   "source": [
    "plt.hist(mydata['Amount'],bins=50,range=[0,4000],edgecolor='blue',linewidth=1.2)\n",
    "plt.yscale('log')\n",
    "plt.ylim(bottom = .1)\n",
    "plt.savefig('good distribution')"
   ]
  },
  {
   "cell_type": "code",
   "execution_count": 33,
   "metadata": {},
   "outputs": [
    {
     "data": {
      "image/png": "[encoded data removed]",
      "text/plain": [
       "<Figure size 432x288 with 1 Axes>"
      ]
     },
     "metadata": {},
     "output_type": "display_data"
    }
   ],
   "source": [
    "plt.hist(mydata['Amount'],bins=10,range=[0,4000],edgecolor='blue',linewidth=1.2)\n",
    "plt.yscale('log')\n",
    "plt.ylim(bottom = .1)\n",
    "plt.savefig('too few bins')"
   ]
  },
  {
   "cell_type": "code",
   "execution_count": 34,
   "metadata": {},
   "outputs": [
    {
     "data": {
      "image/png": "[encoded data removed]",
      "text/plain": [
       "<Figure size 432x288 with 1 Axes>"
      ]
     },
     "metadata": {},
     "output_type": "display_data"
    }
   ],
   "source": [
    "plt.hist(mydata['Amount'],bins=2000,range=[0,4000],edgecolor='blue',linewidth=1.2)\n",
    "plt.yscale('log')\n",
    "plt.ylim(bottom = .1)\n",
    "plt.savefig('too many bins')"
   ]
  },
  {
   "cell_type": "code",
   "execution_count": 35,
   "metadata": {},
   "outputs": [
    {
     "data": {
      "text/plain": [
       "0    95694\n",
       "1     1059\n",
       "Name: Fraud, dtype: int64"
      ]
     },
     "execution_count": 35,
     "metadata": {},
     "output_type": "execute_result"
    }
   ],
   "source": [
    "mydata['Fraud'].value_counts()"
   ]
  },
  {
   "cell_type": "code",
   "execution_count": 53,
   "metadata": {
    "scrolled": true
   },
   "outputs": [
    {
     "data": {
      "text/plain": [
       "(96397, 10)"
      ]
     },
     "execution_count": 53,
     "metadata": {},
     "output_type": "execute_result"
    }
   ],
   "source": [
    "temp = mydata[mydata['Transtype'] == 'P']\n",
    "trans = temp[temp['Amount'] <= 1000000]\n",
    "trans = trans.reset_index(drop=True)\n",
    "trans.shape"
   ]
  },
  {
   "cell_type": "code",
   "execution_count": 54,
   "metadata": {},
   "outputs": [
    {
     "name": "stdout",
     "output_type": "stream",
     "text": [
      "#goods: 95338     #bads: 1059\n"
     ]
    }
   ],
   "source": [
    "goods = trans[trans['Fraud'] == 0]\n",
    "bads = trans[trans['Fraud'] == 1]\n",
    "print(\"#goods:\", len(goods), \"    #bads:\", len(bads))"
   ]
  },
  {
   "cell_type": "code",
   "execution_count": 38,
   "metadata": {},
   "outputs": [
    {
     "data": {
      "text/html": [
       "<div>\n",
       "<style scoped>\n",
       "    .dataframe tbody tr th:only-of-type {\n",
       "        vertical-align: middle;\n",
       "    }\n",
       "\n",
       "    .dataframe tbody tr th {\n",
       "        vertical-align: top;\n",
       "    }\n",
       "\n",
       "    .dataframe thead th {\n",
       "        text-align: right;\n",
       "    }\n",
       "</style>\n",
       "<table border=\"1\" class=\"dataframe\">\n",
       "  <thead>\n",
       "    <tr style=\"text-align: right;\">\n",
       "      <th></th>\n",
       "      <th>Recnum</th>\n",
       "      <th>Cardnum</th>\n",
       "      <th>Date</th>\n",
       "      <th>Merchnum</th>\n",
       "      <th>Merch description</th>\n",
       "      <th>Merch state</th>\n",
       "      <th>Merch zip</th>\n",
       "      <th>Transtype</th>\n",
       "      <th>Amount</th>\n",
       "      <th>Fraud</th>\n",
       "    </tr>\n",
       "  </thead>\n",
       "  <tbody>\n",
       "    <tr>\n",
       "      <th>0</th>\n",
       "      <td>1</td>\n",
       "      <td>5142190439</td>\n",
       "      <td>2010-01-01</td>\n",
       "      <td>5509006296254</td>\n",
       "      <td>FEDEX SHP 12/23/09 AB#</td>\n",
       "      <td>TN</td>\n",
       "      <td>38118.0</td>\n",
       "      <td>P</td>\n",
       "      <td>3.62</td>\n",
       "      <td>0</td>\n",
       "    </tr>\n",
       "    <tr>\n",
       "      <th>1</th>\n",
       "      <td>2</td>\n",
       "      <td>5142183973</td>\n",
       "      <td>2010-01-01</td>\n",
       "      <td>61003026333</td>\n",
       "      <td>SERVICE MERCHANDISE #81</td>\n",
       "      <td>MA</td>\n",
       "      <td>1803.0</td>\n",
       "      <td>P</td>\n",
       "      <td>31.42</td>\n",
       "      <td>0</td>\n",
       "    </tr>\n",
       "    <tr>\n",
       "      <th>2</th>\n",
       "      <td>3</td>\n",
       "      <td>5142131721</td>\n",
       "      <td>2010-01-01</td>\n",
       "      <td>4503082993600</td>\n",
       "      <td>OFFICE DEPOT #191</td>\n",
       "      <td>MD</td>\n",
       "      <td>20706.0</td>\n",
       "      <td>P</td>\n",
       "      <td>178.49</td>\n",
       "      <td>0</td>\n",
       "    </tr>\n",
       "    <tr>\n",
       "      <th>3</th>\n",
       "      <td>4</td>\n",
       "      <td>5142148452</td>\n",
       "      <td>2010-01-01</td>\n",
       "      <td>5509006296254</td>\n",
       "      <td>FEDEX SHP 12/28/09 AB#</td>\n",
       "      <td>TN</td>\n",
       "      <td>38118.0</td>\n",
       "      <td>P</td>\n",
       "      <td>3.62</td>\n",
       "      <td>0</td>\n",
       "    </tr>\n",
       "    <tr>\n",
       "      <th>4</th>\n",
       "      <td>5</td>\n",
       "      <td>5142190439</td>\n",
       "      <td>2010-01-01</td>\n",
       "      <td>5509006296254</td>\n",
       "      <td>FEDEX SHP 12/23/09 AB#</td>\n",
       "      <td>TN</td>\n",
       "      <td>38118.0</td>\n",
       "      <td>P</td>\n",
       "      <td>3.62</td>\n",
       "      <td>0</td>\n",
       "    </tr>\n",
       "  </tbody>\n",
       "</table>\n",
       "</div>"
      ],
      "text/plain": [
       "   Recnum     Cardnum       Date       Merchnum        Merch description  \\\n",
       "0       1  5142190439 2010-01-01  5509006296254   FEDEX SHP 12/23/09 AB#   \n",
       "1       2  5142183973 2010-01-01    61003026333  SERVICE MERCHANDISE #81   \n",
       "2       3  5142131721 2010-01-01  4503082993600        OFFICE DEPOT #191   \n",
       "3       4  5142148452 2010-01-01  5509006296254   FEDEX SHP 12/28/09 AB#   \n",
       "4       5  5142190439 2010-01-01  5509006296254   FEDEX SHP 12/23/09 AB#   \n",
       "\n",
       "  Merch state  Merch zip Transtype  Amount  Fraud  \n",
       "0          TN    38118.0         P    3.62      0  \n",
       "1          MA     1803.0         P   31.42      0  \n",
       "2          MD    20706.0         P  178.49      0  \n",
       "3          TN    38118.0         P    3.62      0  \n",
       "4          TN    38118.0         P    3.62      0  "
      ]
     },
     "execution_count": 38,
     "metadata": {},
     "output_type": "execute_result"
    }
   ],
   "source": [
    "goods.head()"
   ]
  },
  {
   "cell_type": "code",
   "execution_count": 39,
   "metadata": {},
   "outputs": [
    {
     "name": "stdout",
     "output_type": "stream",
     "text": [
      "0.010985819060759152\n"
     ]
    }
   ],
   "source": [
    "overall_fraud_rate = len(bads) / len(trans)\n",
    "print(overall_fraud_rate)"
   ]
  },
  {
   "cell_type": "code",
   "execution_count": 59,
   "metadata": {},
   "outputs": [
    {
     "name": "stderr",
     "output_type": "stream",
     "text": [
      "/usr/local/lib/python3.6/dist-packages/ipykernel_launcher.py:1: MatplotlibDeprecationWarning: \n",
      "The 'normed' kwarg was deprecated in Matplotlib 2.1 and will be removed in 3.1. Use 'density' instead.\n",
      "  \"\"\"Entry point for launching an IPython kernel.\n"
     ]
    },
    {
     "data": {
      "image/png": "[encoded data removed]",
      "text/plain": [
       "<Figure size 432x288 with 1 Axes>"
      ]
     },
     "metadata": {},
     "output_type": "display_data"
    }
   ],
   "source": [
    "plt.hist(goods['Amount'],bins=50,range=[0,40000], normed = True, color = 'green')\n",
    "plt.yscale('log')"
   ]
  },
  {
   "cell_type": "code",
   "execution_count": 40,
   "metadata": {},
   "outputs": [
    {
     "name": "stderr",
     "output_type": "stream",
     "text": [
      "/Users/stevecoggeshall/anaconda3/lib/python3.7/site-packages/ipykernel_launcher.py:1: MatplotlibDeprecationWarning: \n",
      "The 'normed' kwarg was deprecated in Matplotlib 2.1 and will be removed in 3.1. Use 'density' instead.\n",
      "  \"\"\"Entry point for launching an IPython kernel.\n",
      "/Users/stevecoggeshall/anaconda3/lib/python3.7/site-packages/ipykernel_launcher.py:2: MatplotlibDeprecationWarning: \n",
      "The 'normed' kwarg was deprecated in Matplotlib 2.1 and will be removed in 3.1. Use 'density' instead.\n",
      "  \n"
     ]
    },
    {
     "data": {
      "image/png": "[encoded data removed]",
      "text/plain": [
       "<Figure size 432x288 with 1 Axes>"
      ]
     },
     "metadata": {},
     "output_type": "display_data"
    }
   ],
   "source": [
    "plt.hist(goods['Amount'],bins=50,range=[0,40000], normed = True, color = 'green')\n",
    "plt.hist(bads['Amount'],bins=50,range=[0,40000], normed = True, color = 'red', alpha = .5)\n",
    "plt.yscale('log')"
   ]
  },
  {
   "cell_type": "code",
   "execution_count": 41,
   "metadata": {},
   "outputs": [
    {
     "name": "stderr",
     "output_type": "stream",
     "text": [
      "/Users/stevecoggeshall/anaconda3/lib/python3.7/site-packages/ipykernel_launcher.py:1: MatplotlibDeprecationWarning: \n",
      "The 'normed' kwarg was deprecated in Matplotlib 2.1 and will be removed in 3.1. Use 'density' instead.\n",
      "  \"\"\"Entry point for launching an IPython kernel.\n",
      "/Users/stevecoggeshall/anaconda3/lib/python3.7/site-packages/ipykernel_launcher.py:2: MatplotlibDeprecationWarning: \n",
      "The 'normed' kwarg was deprecated in Matplotlib 2.1 and will be removed in 3.1. Use 'density' instead.\n",
      "  \n"
     ]
    },
    {
     "data": {
      "image/png": "[encoded data removed]",
      "text/plain": [
       "<Figure size 432x288 with 1 Axes>"
      ]
     },
     "metadata": {},
     "output_type": "display_data"
    }
   ],
   "source": [
    "plt.hist(goods['Amount'],bins=50,range=[0,3000], normed = True, color = 'green')\n",
    "plt.hist(bads['Amount'],bins=50,range=[0,3000], normed = True, color = 'red', alpha = .5)\n",
    "plt.yscale('log')"
   ]
  },
  {
   "cell_type": "code",
   "execution_count": 62,
   "metadata": {},
   "outputs": [
    {
     "data": {
      "text/plain": [
       "Date\n",
       "2010-01-01    0.000524\n",
       "2010-01-02    0.000304\n",
       "2010-01-03    0.001626\n",
       "2010-01-04    0.002391\n",
       "2010-01-05    0.003220\n",
       "                ...   \n",
       "2010-12-27    0.002077\n",
       "2010-12-28    0.002213\n",
       "2010-12-29    0.002727\n",
       "2010-12-30    0.002077\n",
       "2010-12-31    0.000524\n",
       "Freq: D, Name: trx, Length: 365, dtype: float64"
      ]
     },
     "execution_count": 62,
     "metadata": {},
     "output_type": "execute_result"
    }
   ],
   "source": [
    "norm_goods_series"
   ]
  },
  {
   "cell_type": "code",
   "execution_count": 60,
   "metadata": {},
   "outputs": [
    {
     "data": {
      "text/plain": [
       "<matplotlib.axes._subplots.AxesSubplot at 0x7f2768725cc0>"
      ]
     },
     "execution_count": 60,
     "metadata": {},
     "output_type": "execute_result"
    },
    {
     "data": {
      "image/png": "[encoded data removed]",
      "text/plain": [
       "<Figure size 432x288 with 1 Axes>"
      ]
     },
     "metadata": {},
     "output_type": "display_data"
    }
   ],
   "source": [
    "ngoods = len(goods)\n",
    "nbads = len(bads)\n",
    "goods_series = goods.assign(trx = np.ones(ngoods)).set_index(goods['Date']).resample(dt.timedelta(days = 1)).count().trx\n",
    "norm_goods_series = goods_series / ngoods\n",
    "norm_goods_series.plot(title = 'Daily Transactions', color = 'green')\n",
    "bads_series = bads.assign(trx = np.ones(nbads)).set_index(bads['Date']).resample(dt.timedelta(days = 1)).count().trx\n",
    "norm_bads_series = bads_series / nbads\n",
    "norm_bads_series.plot(color = 'red')"
   ]
  },
  {
   "cell_type": "code",
   "execution_count": 43,
   "metadata": {},
   "outputs": [
    {
     "data": {
      "text/plain": [
       "<matplotlib.axes._subplots.AxesSubplot at 0x1a19e1de80>"
      ]
     },
     "execution_count": 43,
     "metadata": {},
     "output_type": "execute_result"
    },
    {
     "data": {
      "image/png": "[encoded data removed]",
      "text/plain": [
       "<Figure size 432x288 with 1 Axes>"
      ]
     },
     "metadata": {},
     "output_type": "display_data"
    }
   ],
   "source": [
    "goods_series = goods.assign(trx = np.ones(ngoods)).set_index(goods['Date']).resample(dt.timedelta(days = 7)).count().trx\n",
    "norm_goods_series = goods_series / ngoods\n",
    "norm_goods_series.plot(title = 'Weeky Transactions', color = 'green')\n",
    "bads_series = bads.assign(trx = np.ones(nbads)).set_index(bads['Date']).resample(dt.timedelta(days = 7)).count().trx\n",
    "norm_bads_series = bads_series / nbads\n",
    "norm_bads_series.plot(color = 'red')"
   ]
  },
  {
   "cell_type": "code",
   "execution_count": 44,
   "metadata": {
    "scrolled": true
   },
   "outputs": [
    {
     "data": {
      "text/plain": [
       "<matplotlib.axes._subplots.AxesSubplot at 0x1a1ac84780>"
      ]
     },
     "execution_count": 44,
     "metadata": {},
     "output_type": "execute_result"
    },
    {
     "data": {
      "image/png": "[encoded data removed]",
      "text/plain": [
       "<Figure size 432x288 with 1 Axes>"
      ]
     },
     "metadata": {},
     "output_type": "display_data"
    }
   ],
   "source": [
    "goods_series = goods.assign(trx = np.ones(ngoods)).set_index(goods['Date']).resample(dt.timedelta(days = 30)).count().trx\n",
    "norm_goods_series = goods_series / ngoods\n",
    "norm_goods_series.plot(title = 'Approximately Monthly Transactions', color = 'green')\n",
    "bads_series = bads.assign(trx = np.ones(nbads)).set_index(bads['Date']).resample(dt.timedelta(days = 30)).count().trx\n",
    "norm_bads_series = bads_series / nbads\n",
    "norm_bads_series.plot(color = 'red')"
   ]
  },
  {
   "cell_type": "code",
   "execution_count": 45,
   "metadata": {},
   "outputs": [],
   "source": [
    "import pandas_profiling\n",
    "profile = pandas_profiling.ProfileReport(mydata)\n",
    "profile.to_file('Data Summary.html')"
   ]
  },
  {
   "cell_type": "code",
   "execution_count": 46,
   "metadata": {},
   "outputs": [
    {
     "name": "stdout",
     "output_type": "stream",
     "text": [
      "start:  2020-04-29 11:08:42.376794\n",
      "stop:  2020-04-29 11:09:10.150102\n",
      "duration:  0:00:27.773308\n"
     ]
    }
   ],
   "source": [
    "stop_time = pd.datetime.now()\n",
    "print('start: ', start_time)\n",
    "print('stop: ',stop_time)\n",
    "print('duration: ', stop_time - start_time)"
   ]
  }
 ],
 "metadata": {
  "anaconda-cloud": {},
  "kernelspec": {
   "display_name": "Python 3",
   "language": "python",
   "name": "python3"
  },
  "language_info": {
   "codemirror_mode": {
    "name": "ipython",
    "version": 3
   },
   "file_extension": ".py",
   "mimetype": "text/x-python",
   "name": "python",
   "nbconvert_exporter": "python",
   "pygments_lexer": "ipython3",
   "version": "3.6.9"
  }
 },
 "nbformat": 4,
 "nbformat_minor": 4
}
